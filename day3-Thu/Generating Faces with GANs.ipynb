{
 "cells": [
  {
   "cell_type": "markdown",
   "metadata": {},
   "source": [
    "### Generating human faces with Adversarial Networks\n",
    "![img](https://www.strangerdimensions.com/wp-content/uploads/2013/11/reception-robot.jpg)\n",
    "\n",
    "This time we'll train a neural net to generate plausible human faces in all their subtlty: appearance, expression, accessories, etc. 'Cuz when us machines gonna take over Earth, there won't be any more faces left. We want to preserve this data for future iterations. Yikes...\n",
    "\n",
    "Based on Based on https://github.com/Lasagne/Recipes/pull/94 .\n"
   ]
  },
  {
   "cell_type": "code",
   "execution_count": 1,
   "metadata": {},
   "outputs": [
    {
     "name": "stdout",
     "output_type": "stream",
     "text": [
      "env: CUDA_VISIBLE_DEVICES=2\n"
     ]
    }
   ],
   "source": [
    "%env CUDA_VISIBLE_DEVICES=2"
   ]
  },
  {
   "cell_type": "code",
   "execution_count": 2,
   "metadata": {},
   "outputs": [],
   "source": [
    "import matplotlib.pyplot as plt\n",
    "%matplotlib inline\n",
    "import numpy as np\n",
    "plt.rcParams.update({'axes.titlesize': 'small'})\n",
    "\n",
    "# a utility to load the dataset\n",
    "from lfw_dataset import fetch_lfw_dataset\n",
    "data, _ = fetch_lfw_dataset(dimx=36, dimy=36,\n",
    "                            images_name=\"/mnt/mlhep2018/datasets/lfw-deepfunneled\",\n",
    "                            attrs_name=\"/mnt/mlhep2018/datasets/lfw_attributes.txt\")\n",
    "\n",
    "# preprocess faces\n",
    "data = np.float32(data)/255.\n",
    "\n",
    "IMG_SHAPE = data.shape[1:]"
   ]
  },
  {
   "cell_type": "code",
   "execution_count": 3,
   "metadata": {},
   "outputs": [
    {
     "data": {
      "image/png": "[encoded data removed]",
      "text/plain": [
       "<matplotlib.figure.Figure at 0x7f08c0dfbc18>"
      ]
     },
     "metadata": {},
     "output_type": "display_data"
    }
   ],
   "source": [
    "# show a random image\n",
    "plt.imshow(data[np.random.randint(data.shape[0])], cmap=\"gray\", interpolation=\"none\")\n",
    "plt.axis('off');"
   ]
  },
  {
   "cell_type": "markdown",
   "metadata": {},
   "source": [
    "# Generative adversarial nets 101\n",
    "\n",
    "<img src=\"https://raw.githubusercontent.com/torch/torch.github.io/master/blog/_posts/images/model.png\" width=320px height=240px>\n",
    "\n",
    "Deep learning is simple, isn't it? \n",
    "* build some network that generates the face (small image)\n",
    "* make up a __measure__ of __how good that face is__\n",
    "* optimize with gradient descent :)\n",
    "\n",
    "\n",
    "The only problem is: how can we engineers tell well-generated faces from bad? And I bet you we won't ask a designer for help. \n",
    "\n",
    "__If we can't tell good faces from bad, we delegate it to yet another neural network!__\n",
    "\n",
    "That makes the two of them:\n",
    "* __G__enerator - takes random noise for inspiration and tries to generate a face sample. \n",
    "  * Let's call him __G__(z), where z is a gaussian noise.\n",
    "* __D__iscriminator - takes a face sample and tries to tell if it's real or fake. \n",
    "  * Predicts the probability of input image being a __real face__\n",
    "  * Let's call him __D__(x), x being an image.\n",
    "  * __D(x)__ is a predition for real image and __D(G(z))__ is prediction for the face made by generator.\n",
    "\n",
    "Before we dive into training them, let's construct the two networks."
   ]
  },
  {
   "cell_type": "code",
   "execution_count": 4,
   "metadata": {},
   "outputs": [
    {
     "name": "stderr",
     "output_type": "stream",
     "text": [
      "Using TensorFlow backend.\n"
     ]
    }
   ],
   "source": [
    "import tensorflow as tf\n",
    "\n",
    "# Plese don't run tensorfow without this config. Without it you'll take the whole memory of the GPU\n",
    "# and make it unusable by anyone else\n",
    "gpu_options = tf.GPUOptions(allow_growth=True)\n",
    "sess = tf.InteractiveSession(config=tf.ConfigProto(gpu_options=gpu_options))\n",
    "\n",
    "import keras\n",
    "from keras.models import Sequential\n",
    "from keras import layers as L\n",
    "from functools import partial"
   ]
  },
  {
   "cell_type": "markdown",
   "metadata": {},
   "source": [
    "Now it's your choise which GAN to build: Jensen-Shannon or Wasserstein.\n",
    "\n",
    "In addition to the theoretical difference from the lecture, a couple of practical matters:\n",
    "Jensen-Shannon GAN should learn several times faster, but is more sensitive to mode collapse and\n",
    "vanishing gradients. Wasserstein GAN doesn't go well in company of batch normalization and ELU activation."
   ]
  },
  {
   "cell_type": "code",
   "execution_count": 5,
   "metadata": {},
   "outputs": [],
   "source": [
    "GAN_TYPE = \"Wasserstein\" #| \"Jensen-Shannon\""
   ]
  },
  {
   "cell_type": "code",
   "execution_count": 6,
   "metadata": {
    "scrolled": false
   },
   "outputs": [],
   "source": [
    "CODE_SIZE = 256\n",
    "\n",
    "# Activations experimentally selected. Will most likely work\n",
    "# for other combinations of activations/architectures\n",
    "if GAN_TYPE == \"Wasserstein\":\n",
    "    generator_activation = keras.activations.relu\n",
    "elif GAN_TYPE == \"Jensen-Shannon\":\n",
    "    generator_activation = keras.activations.elu\n",
    "\n",
    "num_filters1 = 15\n",
    "num_filters2 = 15\n",
    "num_filters3 = 15\n",
    "num_filters4 = 15\n",
    "num_filters5 = 3\n",
    "\n",
    "kern_size = 3\n",
    "upsamp_size = 2\n",
    "    \n",
    "with tf.name_scope(\"Generator\"):\n",
    "    # Something like 4-5 Deconv layers with an Upsampling would suffice. \n",
    "    generator = Sequential(name=\"Generator\")\n",
    "    generator.add(L.InputLayer([CODE_SIZE]))\n",
    "    generator.add(L.Reshape((1,1,CODE_SIZE)))\n",
    "    generator.add(L.UpSampling2D(upsamp_size))  \n",
    "    generator.add(L.Conv2DTranspose(num_filters1,kern_size,activation=generator_activation))\n",
    "    generator.add(L.Conv2DTranspose(num_filters2,kern_size,activation=generator_activation))\n",
    "    generator.add(L.UpSampling2D(upsamp_size)) \n",
    "    generator.add(L.Conv2DTranspose(num_filters3,kern_size,activation=generator_activation))\n",
    "    generator.add(L.Conv2DTranspose(num_filters3,kern_size,activation=generator_activation)) \n",
    "    generator.add(L.UpSampling2D(upsamp_size)) \n",
    "    generator.add(L.Conv2DTranspose(num_filters4,kern_size,activation=generator_activation)) \n",
    "    generator.add(L.Conv2DTranspose(num_filters5,kern_size,activation=\"tanh\"))\n",
    "#     generator.summary()\n"
   ]
  },
  {
   "cell_type": "code",
   "execution_count": 7,
   "metadata": {},
   "outputs": [],
   "source": [
    "assert generator.output_shape[1:] == IMG_SHAPE, \\\n",
    "    \"generator must output an image of shape %s, but instead it produces %s\" % \\\n",
    "        (IMG_SHAPE, generator.output_shape[1:])"
   ]
  },
  {
   "cell_type": "markdown",
   "metadata": {},
   "source": [
    "### Discriminator\n",
    "* Discriminator is your usual convolutional network with interlooping convolution and pooling layers\n",
    "* The network does not include dropout/batchnorm to avoid learning complications.\n",
    "* We also regularize the pre-output layer to prevent discriminator from being too certain."
   ]
  },
  {
   "cell_type": "code",
   "execution_count": 8,
   "metadata": {},
   "outputs": [],
   "source": [
    "discriminator_activation = partial(keras.activations.relu, alpha=0.3)"
   ]
  },
  {
   "cell_type": "code",
   "execution_count": 9,
   "metadata": {},
   "outputs": [],
   "source": [
    "with tf.name_scope(\"Discriminator\"):\n",
    "    discriminator = Sequential(name=\"Discriminator\")\n",
    "    discriminator.add(L.InputLayer(IMG_SHAPE))\n",
    "    discriminator.add(L.Conv2DTranspose(num_filters5,kern_size,activation=\"tanh\"))\n",
    "    discriminator.add(L.Conv2DTranspose(num_filters4,kern_size,activation=generator_activation)) \n",
    "#     discriminator.add(L.UpSampling2D(upsamp_size)) \n",
    "    discriminator.add(L.MaxPool2D(pool_size=(2, 2)))\n",
    "    discriminator.add(L.Conv2DTranspose(num_filters3,kern_size,activation=generator_activation))\n",
    "    discriminator.add(L.Conv2DTranspose(num_filters3,kern_size,activation=generator_activation))\n",
    "#     discriminator.add(L.UpSampling2D(upsamp_size))\n",
    "    discriminator.add(L.MaxPool2D(pool_size=(2, 2)))\n",
    "    discriminator.add(L.Conv2DTranspose(num_filters3,kern_size,activation=generator_activation))\n",
    "    discriminator.add(L.Conv2DTranspose(num_filters3,kern_size,activation=generator_activation))\n",
    "    discriminator.add(L.Flatten())\n",
    "    discriminator.add(L.Dense(256, activation=discriminator_activation))\n",
    "    \n",
    "    \n",
    "    # You might want to make it roughly the inverse of the generator\n",
    "    # The next layers expect 1D vector as input, don't forget to Flatten\n",
    "    if GAN_TYPE == \"Wasserstein\":\n",
    "        # Wasserstein discriminator values are unconstrained\n",
    "        discriminator.add(L.Dense(1, activation=keras.activations.linear))\n",
    "    elif GAN_TYPE == \"Jensen-Shannon\":\n",
    "        # Jensen-Shannon expects probabilities\n",
    "        discriminator.add(L.Dense(2, activation=tf.nn.log_softmax))"
   ]
  },
  {
   "cell_type": "markdown",
   "metadata": {},
   "source": [
    "# Training\n",
    "\n",
    "We train the two networks concurrently:\n",
    "* Train __discriminator__ to better distinguish real data from __current__ generator\n",
    "* Train __generator__ to make discriminator think generator is real\n",
    "* Since discriminator is a differentiable neural network, we train both with gradient descent.\n",
    "\n",
    "Training is done iteratively until discriminator is no longer able to find the difference (or until you run out of patience).\n",
    "\n",
    "\n",
    "### Tricks:\n",
    "* Train generator with __adam__ to speed up training. JS discriminator trains with SGD to avoid problems with momentum, Wassershtein usually manages Adam\n",
    "* More: https://github.com/soumith/ganhacks\n"
   ]
  },
  {
   "cell_type": "code",
   "execution_count": 10,
   "metadata": {},
   "outputs": [],
   "source": [
    "def get_tf_dataset(dataset, batch_size):\n",
    "    \"\"\"\n",
    "    Produces an infinite stram of Tensorflow batches from a numpy dataset. The dataset is shuffled every epoch.\n",
    "    Args:\n",
    "       dataset: np.array[n_examples, ...]\n",
    "       batch_size: int, batch size of the results\n",
    "    Reuturns:\n",
    "       Tensor, containing the next batch\n",
    "    \"\"\"\n",
    "    shuffler = tf.contrib.data.shuffle_and_repeat(dataset.shape[0])\n",
    "    suffled_ds = shuffler(tf.data.Dataset.from_tensor_slices(dataset))\n",
    "    return suffled_ds.batch(batch_size).prefetch(1).make_one_shot_iterator().get_next()"
   ]
  },
  {
   "cell_type": "code",
   "execution_count": 11,
   "metadata": {},
   "outputs": [],
   "source": [
    "train_batch_size = 100\n",
    "real_data = get_tf_dataset(data, train_batch_size)\n",
    "\n",
    "noise_batch_size = tf.placeholder(tf.int32, shape=[], name=\"noise_batch_size\")\n",
    "noise = tf.random_normal([noise_batch_size, CODE_SIZE], dtype=tf.float32, name=\"noise\")\n",
    "discriminator_real = discriminator(real_data)\n",
    "generated_data = generator(noise)\n",
    "discriminator_generated = discriminator(generated_data)\n",
    "# print(discriminator_real, discriminator_generated)"
   ]
  },
  {
   "cell_type": "code",
   "execution_count": 12,
   "metadata": {},
   "outputs": [],
   "source": [
    "if GAN_TYPE == \"Wasserstein\":\n",
    "    with tf.name_scope(\"gradient_loss\"):\n",
    "        alpha = tf.random_uniform(shape=[tf.shape(generated_data)[0], 1, 1, 1], minval=0., maxval=1.)\n",
    "        interpolates = alpha*real_data + ((1.-alpha)*generated_data)\n",
    "        disc_interpolates = discriminator(interpolates)\n",
    "        gradients = tf.gradients(disc_interpolates, [interpolates])[0]\n",
    "        slopes = tf.norm(tf.reshape(gradients, [tf.shape(gradients)[0], -1]), axis=1)\n",
    "        gradient_penalty = tf.reduce_mean(tf.square(slopes - 1.))\n",
    "    EMD_loss = - tf.reduce_mean(discriminator_real) + tf.reduce_mean(discriminator_generated)\n",
    "    LAMBDA = 10.\n",
    "    discriminator_loss = EMD_loss + LAMBDA*gradient_penalty"
   ]
  },
  {
   "cell_type": "code",
   "execution_count": 13,
   "metadata": {},
   "outputs": [],
   "source": [
    "if GAN_TYPE == \"Jensen-Shannon\":\n",
    "    logp_real = discriminator(real_data)\n",
    "    logp_gen = discriminator(generated_data)\n",
    "#     discriminator_loss = #### Not using this yet"
   ]
  },
  {
   "cell_type": "code",
   "execution_count": 14,
   "metadata": {},
   "outputs": [],
   "source": [
    "# The values below are rough suggestions aimed at not exploding\n",
    "disc_learning_rate = 1e-3\n",
    "\n",
    "if GAN_TYPE == \"Wasserstein\":\n",
    "    # https://arxiv.org/pdf/1704.00028.pdf recommends Adam with beta1=0, beta2=0.9\n",
    "    disc_optimizer = tf.train.AdamOptimizer(disc_learning_rate, beta1=0, beta2=0.9).minimize(\n",
    "        discriminator_loss, var_list=discriminator.trainable_weights)\n",
    "elif GAN_TYPE == \"Jensen-Shannon\":\n",
    "#     We recommend plain gradient descent\n",
    "#     disc_optimizer = <your code here>\n",
    "    pass"
   ]
  },
  {
   "cell_type": "code",
   "execution_count": 15,
   "metadata": {},
   "outputs": [],
   "source": [
    "if GAN_TYPE == \"Wasserstein\":\n",
    "    generator_loss = - tf.reduce_mean(discriminator_generated)\n",
    "     # https://arxiv.org/pdf/1704.00028.pdf\n",
    "    gen_optimizer = tf.train.AdamOptimizer(1e-4, beta1=0, beta2=0.9).minimize(\n",
    "        generator_loss, var_list=generator.trainable_weights)\n",
    "elif GAN_TYPE == \"Jensen-Shannon\":\n",
    "#     generator_loss = <your code here>\n",
    "    gen_optimizer = tf.train.AdamOptimizer(1e-4).minimize(generator_loss, var_list=generator.trainable_weights)"
   ]
  },
  {
   "cell_type": "code",
   "execution_count": 16,
   "metadata": {},
   "outputs": [],
   "source": [
    "learning_summary = tf.summary.merge([\n",
    "    tf.summary.scalar(\"discriminator_loss\", discriminator_loss),\n",
    "    tf.summary.scalar(\"generator_loss\", generator_loss)\n",
    "])\n",
    "\n",
    "images_summary = tf.summary.image(\"generated_images\", generator(noise))"
   ]
  },
  {
   "cell_type": "code",
   "execution_count": 17,
   "metadata": {},
   "outputs": [],
   "source": [
    "sess.run(tf.global_variables_initializer())"
   ]
  },
  {
   "cell_type": "markdown",
   "metadata": {},
   "source": [
    "### Auxilary functions\n",
    "Here we define a few helper functions that draw current data distributions and sample training batches."
   ]
  },
  {
   "cell_type": "code",
   "execution_count": 18,
   "metadata": {},
   "outputs": [],
   "source": [
    "def sample_noise_batch(bsize):\n",
    "    return np.random.normal(size=(bsize, CODE_SIZE)).astype('float32')\n",
    "\n",
    "def sample_data_batch(bsize):\n",
    "    idxs = np.random.choice(np.arange(data.shape[0]), size=bsize)\n",
    "    return data[idxs]\n",
    "\n",
    "def sample_images(nrow,ncol, sharp=False):\n",
    "    images = generator.predict(sample_noise_batch(bsize=nrow*ncol))\n",
    "    if np.var(images) != 0:\n",
    "        images = images.clip(np.min(data),np.max(data))\n",
    "    for i in range(nrow*ncol):\n",
    "        plt.subplot(nrow,ncol,i+1)\n",
    "        if sharp:\n",
    "            plt.imshow(images[i].reshape(IMG_SHAPE), cmap=\"gray\", interpolation=\"none\")\n",
    "        else:\n",
    "            plt.imshow(images[i].reshape(IMG_SHAPE), cmap=\"gray\")\n",
    "        plt.axis('off')\n",
    "\n",
    "def sample_probas(bsize):\n",
    "    fig, ax = plt.subplots()\n",
    "    ax.set_title('Generated vs real data')\n",
    "    ax.hist(discriminator.predict(sample_data_batch(bsize)).ravel(),\n",
    "             label='D(x)', alpha=0.5, normed=True)\n",
    "    ax.hist(discriminator.predict(generator.predict(sample_noise_batch(bsize))).ravel(),\n",
    "             label='D(G(z))', alpha=0.5,  normed=True)\n",
    "    ax.legend(loc='best')\n",
    "    return fig, ax"
   ]
  },
  {
   "cell_type": "markdown",
   "metadata": {},
   "source": [
    "### Training\n",
    "Main loop.\n",
    "We just train generator and discriminator in a loop and draw results once every N iterations."
   ]
  },
  {
   "cell_type": "code",
   "execution_count": null,
   "metadata": {
    "scrolled": false
   },
   "outputs": [
    {
     "data": {
      "image/png": "[encoded data removed]",
      "text/plain": [
       "<matplotlib.figure.Figure at 0x7f06671c24e0>"
      ]
     },
     "metadata": {},
     "output_type": "display_data"
    },
    {
     "data": {
      "image/png": "[encoded data removed]",
      "text/plain": [
       "<matplotlib.figure.Figure at 0x7f067a702748>"
      ]
     },
     "metadata": {},
     "output_type": "display_data"
    }
   ],
   "source": [
    "from IPython import display\n",
    "import os\n",
    "\n",
    "LOGDIR = os.path.join(\"/mnt/students-home\", os.environ[\"USER\"], \"tensorflow-logs\")\n",
    "MODEL_NAME = \"faces_GAN_%s_v2\" % GAN_TYPE\n",
    "MODEL_DIR = os.path.join(\"/mnt/students-home\", os.environ[\"USER\"], \"GAN/weights\")\n",
    "os.makedirs(MODEL_DIR, exist_ok=True)\n",
    "MODEL_WEIGHTS_FILE =  os.path.join(MODEL_DIR, (\"%s.ckpt\" % MODEL_NAME))\n",
    "VALIDATION_INTERVAL = 50\n",
    "TOTAL_ITERATIONS = int(5e4)\n",
    "# Number of discriminator training iterations per generator iteration\n",
    "# In our tests for discriminator of roughly as complexity as discriminator\n",
    "# 5 worked for both Wasserstein and Jensen–Shannon.\n",
    "DISCRIMINATOR_ITERAIONS = 5\n",
    "\n",
    "train_writer = tf.summary.FileWriter(os.path.join(LOGDIR, MODEL_NAME, \"train\"))\n",
    "train_writer.add_graph(tf.get_default_graph())\n",
    "weights_saver = tf.train.Saver()\n",
    "print(weights_saver)\n",
    "\n",
    "try:\n",
    "    weights_saver.restore(sess, MODEL_WEIGHTS_FILE)\n",
    "except (tf.errors.NotFoundError, tf.errors.InvalidArgumentError):\n",
    "    print(\"Can't restore parameters: no file with weights\")\n",
    "\n",
    "for epoch in range(TOTAL_ITERATIONS):\n",
    "    for i in range(DISCRIMINATOR_ITERAIONS):\n",
    "        sess.run(disc_optimizer, {noise_batch_size: train_batch_size})\n",
    "    summary, _ = sess.run([learning_summary, gen_optimizer], {noise_batch_size: train_batch_size})\n",
    "    train_writer.add_summary(summary, epoch)\n",
    "    \n",
    "    if epoch % VALIDATION_INTERVAL == 0:\n",
    "        display.clear_output(wait=False)\n",
    "        weights_saver.save(sess, MODEL_WEIGHTS_FILE)\n",
    "        epoch_images_summary = sess.run(images_summary, {noise_batch_size: 3})\n",
    "        train_writer.add_summary(epoch_images_summary, epoch)\n",
    "        sample_images(2, 3, True)\n",
    "        fig, ax = sample_probas(1000)\n",
    "        ax.set_title((\"Epoch %i; \" % epoch) + ax.get_title())\n",
    "        plt.show()"
   ]
  },
  {
   "cell_type": "code",
   "execution_count": null,
   "metadata": {
    "scrolled": true
   },
   "outputs": [],
   "source": [
    "# Training for longer yields MUCH better results\n",
    "plt.figure(figsize=[16, 24])\n",
    "sample_images(16, 8);"
   ]
  }
 ],
 "metadata": {
  "anaconda-cloud": {},
  "kernelspec": {
   "display_name": "Python 3",
   "language": "python",
   "name": "python3"
  },
  "language_info": {
   "codemirror_mode": {
    "name": "ipython",
    "version": 3
   },
   "file_extension": ".py",
   "mimetype": "text/x-python",
   "name": "python",
   "nbconvert_exporter": "python",
   "pygments_lexer": "ipython3",
   "version": "3.6.6"
  }
 },
 "nbformat": 4,
 "nbformat_minor": 1
}
