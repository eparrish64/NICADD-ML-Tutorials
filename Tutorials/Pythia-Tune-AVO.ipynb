{
 "cells": [
  {
   "cell_type": "markdown",
   "metadata": {},
   "source": [
    "# Adversarial Variational Optimization: PYTHIA Tuning\n",
    "\n",
    "In this notebook Adversarial Variational Optimization (https://arxiv.org/abs/1707.07113) is applied to tuning parameters of a simplistic detector.\n",
    "\n",
    "**Note: this notebook takes quite a long time to execute. It is recommended to run all cells at the beginning.**"
   ]
  },
  {
   "cell_type": "markdown",
   "metadata": {},
   "source": [
    "**Please, don't interrupt the notebook while sampling from PythiaMill. Otherwise it might stuck at the next attempt to sample from it. IF this happens, please, restart the notebook.**"
   ]
  },
  {
   "cell_type": "code",
   "execution_count": 1,
   "metadata": {},
   "outputs": [
    {
     "name": "stdout",
     "output_type": "stream",
     "text": [
      "env: CUDA_DEVICE_ORDER=PCI_BUS_ID\n"
     ]
    }
   ],
   "source": [
    "%env CUDA_DEVICE_ORDER=PCI_BUS_ID"
   ]
  },
  {
   "cell_type": "code",
   "execution_count": 2,
   "metadata": {},
   "outputs": [],
   "source": [
    "%matplotlib inline\n",
    "import matplotlib.pyplot as plt\n",
    "\n",
    "from tqdm import tqdm_notebook as tqdm_notebook\n",
    "\n",
    "import numpy as np"
   ]
  },
  {
   "cell_type": "code",
   "execution_count": 3,
   "metadata": {},
   "outputs": [
    {
     "name": "stderr",
     "output_type": "stream",
     "text": [
      "Using TensorFlow backend.\n"
     ]
    }
   ],
   "source": [
    "### don't forget about others!\n",
    "\n",
    "import keras\n",
    "\n",
    "import tensorflow as tf\n",
    "# gpu_options = tf.GPUOptions(allow_growth=True, per_process_gpu_memory_fraction=0.2)\n",
    "gpu_options = tf.GPUOptions(allow_growth=True)\n",
    "tf_session = tf.InteractiveSession(config=tf.ConfigProto(gpu_options=gpu_options))\n",
    "\n",
    "keras.backend.tensorflow_backend.set_session(tf_session)"
   ]
  },
  {
   "cell_type": "markdown",
   "metadata": {},
   "source": [
    "## Generators\n",
    "\n",
    "Pythia-mill is a python binding to Pythia generator that can run in multiple threads (processes).\n",
    "For more details, please, visit https://github.com/maxim-borisyak/pythia-mill"
   ]
  },
  {
   "cell_type": "code",
   "execution_count": 4,
   "metadata": {},
   "outputs": [],
   "source": [
    "import pythiamill as pm\n",
    "\n",
    "SEED=123"
   ]
  },
  {
   "cell_type": "markdown",
   "metadata": {},
   "source": [
    "### Note about the change of problem\n",
    "\n",
    "The reason the detector parameters (instead of Pythia parameters) are the target for the tune is a purely technical one: on each step AVO requires samples from multiples configurations of generator + detector. However, Pythia requires about half of a second to be reconfigured, which induces a tremendous overhead.\n",
    "\n",
    "By contrast, this simplistic detector is designed to accept its parameters as function arguments (effectively neglecting any overhead).\n",
    "\n",
    "\n",
    "The detector emulates a $32 \\times 32$ spherical uniform grid in `pseudorapidity` ($\\eta$)-`angle in traverse plane` ($\\phi$) covering $(\\eta, \\phi) \\in [0, 5] \\times [0, 2 \\pi]$.\n",
    "\n",
    "The detector is parametrized by offset in $z$-axis relative to the beam crossing point. Zero offset means that center of the sphere coincides with the collision point."
   ]
  },
  {
   "cell_type": "code",
   "execution_count": 5,
   "metadata": {},
   "outputs": [],
   "source": [
    "### ground truth offset, unknown in the real world problems.\n",
    "TRUE_OFFSET=0"
   ]
  },
  {
   "cell_type": "code",
   "execution_count": 6,
   "metadata": {},
   "outputs": [],
   "source": [
    "options = [\n",
    "    ### telling pythia to be quiet.\n",
    "    'Print:quiet = on',\n",
    "    'Init:showProcesses = off',\n",
    "    'Init:showMultipartonInteractions = off',\n",
    "    'Init:showChangedSettings = off',\n",
    "    'Init:showChangedParticleData = off',\n",
    "    'Next:numberCount=0',\n",
    "    'Next:numberShowInfo=0',\n",
    "    'Next:numberShowEvent=0',\n",
    "    'Stat:showProcessLevel=off',\n",
    "    'Stat:showErrors=off',\n",
    "    \n",
    "    ### seeting default parameters to Monash values\n",
    "    ### all options are taken from https://arxiv.org/abs/1610.08328\n",
    "    \"Tune:ee = 7\",\n",
    "    \"Beams:idA = 11\",\n",
    "    \"Beams:idB = -11\",\n",
    "    \"Beams:eCM = 91.2\",\n",
    "    \"WeakSingleBoson:ffbar2gmZ = on\",\n",
    "    \"23:onMode = off\",\n",
    "    \"23:onIfMatch = 1 -1\",\n",
    "    \"23:onIfMatch = 2 -2\",\n",
    "    \"23:onIfMatch = 3 -3\",\n",
    "    \"23:onIfMatch = 4 -4\",\n",
    "    \"23:onIfMatch = 5 -5\",\n",
    "]"
   ]
  },
  {
   "cell_type": "code",
   "execution_count": 7,
   "metadata": {},
   "outputs": [],
   "source": [
    "### defining the detector\n",
    "detector = pm.utils.SphericalTracker(\n",
    "    ### with this option detector measures total energy\n",
    "    ### of the particles traversing each pixel.\n",
    "    is_binary=False,\n",
    "    \n",
    "    ### detector covers [0, 5] pseudo-rapidity range\n",
    "    max_pseudorapidity=5.0,\n",
    "    pseudorapidity_steps=32, phi_steps=32,\n",
    "    ### 1 layer with radius 10 mm.\n",
    "    n_layers=1, R_min=10.0, R_max=10.0,\n",
    ")\n",
    "    \n",
    "mill = pm.ParametrizedPythiaMill(\n",
    "    detector, options,\n",
    "    ### please, don't use number of workers higher than 4.\n",
    "    batch_size=8, n_workers=4,\n",
    "    seed=SEED\n",
    ")"
   ]
  },
  {
   "cell_type": "code",
   "execution_count": 8,
   "metadata": {},
   "outputs": [],
   "source": [
    "def get_data(mill, detector_configurations, show_progress=False):\n",
    "    \"\"\"\n",
    "    Utilitary function to obtain data for a particular set of configurations.\n",
    "    \n",
    "    :param mill: instance of Pythia Mill to sample from.\n",
    "    : param detector configuration: - list of configurations.\n",
    "        each configuration should be an array of detector parameters.\n",
    "    : param show_progress: if True shows progress via `tqdm` package. \n",
    "    \n",
    "    :return:\n",
    "        - parameters: array of shape `<number of samples> x <parameters dim>`, parameters for each sample;\n",
    "        - samples: array of shape `<number of samples> x 1 x 32 x 32`, sampled events.\n",
    "    \"\"\"\n",
    "    try:\n",
    "        ### sending requests to the queue\n",
    "        for args in detector_configurations:\n",
    "            mill.request(*args)\n",
    "\n",
    "        ### retrieving results\n",
    "        data = [\n",
    "            mill.retrieve()\n",
    "            for _ in (\n",
    "                (lambda x: tqdm_notebook(x, postfix='data gen', leave=False))\n",
    "                if show_progress else\n",
    "                (lambda x: x)\n",
    "            )(range(len(detector_configurations)))\n",
    "        ]\n",
    "\n",
    "        samples = np.vstack([ samples for params, samples in data ])\n",
    "        params = np.vstack([ np.array([params] * samples.shape[0], dtype='float32') for params, samples in data ])\n",
    "\n",
    "        return params, samples.reshape(-1, 32, 32, 1)\n",
    "    finally:\n",
    "        while mill.n_requests > 0:\n",
    "            mill.retrieve()"
   ]
  },
  {
   "cell_type": "code",
   "execution_count": 9,
   "metadata": {},
   "outputs": [
    {
     "data": {
      "application/vnd.jupyter.widget-view+json": {
       "model_id": "",
       "version_major": 2,
       "version_minor": 0
      },
      "text/plain": [
       "HBox(children=(IntProgress(value=0, max=4096), HTML(value='')))"
      ]
     },
     "metadata": {},
     "output_type": "display_data"
    },
    {
     "name": "stdout",
     "output_type": "stream",
     "text": [
      "\r"
     ]
    },
    {
     "data": {
      "application/vnd.jupyter.widget-view+json": {
       "model_id": "",
       "version_major": 2,
       "version_minor": 0
      },
      "text/plain": [
       "HBox(children=(IntProgress(value=0, max=4096), HTML(value='')))"
      ]
     },
     "metadata": {},
     "output_type": "display_data"
    },
    {
     "name": "stdout",
     "output_type": "stream",
     "text": [
      "\r"
     ]
    }
   ],
   "source": [
    "### Generating training samples with ground truth parameters.\n",
    "### For a real-world problem these arrays would correspond to real data.\n",
    "_, X_true_train = get_data(mill, detector_configurations=[(TRUE_OFFSET, )] * 2 ** 12, show_progress=True)\n",
    "_, X_true_val = get_data(mill, detector_configurations=[(TRUE_OFFSET, )] * 2 ** 12, show_progress=True)"
   ]
  },
  {
   "cell_type": "code",
   "execution_count": 10,
   "metadata": {},
   "outputs": [
    {
     "name": "stdout",
     "output_type": "stream",
     "text": [
      "(32768, 32, 32, 1)\n",
      "(32768, 32, 32, 1)\n"
     ]
    }
   ],
   "source": [
    "print(X_true_train.shape)\n",
    "print(X_true_val.shape)"
   ]
  },
  {
   "cell_type": "markdown",
   "metadata": {},
   "source": [
    "### Taking a look at events"
   ]
  },
  {
   "cell_type": "code",
   "execution_count": 11,
   "metadata": {},
   "outputs": [
    {
     "data": {
      "image/png": "[encoded data removed]",
      "text/plain": [
       "<Figure size 1080x1080 with 25 Axes>"
      ]
     },
     "metadata": {
      "needs_background": "light"
     },
     "output_type": "display_data"
    }
   ],
   "source": [
    "n = 5\n",
    "plt.subplots(nrows=n, ncols=n, figsize=(3 * n, 3 * n))\n",
    "\n",
    "max_energy = np.max(X_true_train[:n * n])\n",
    "\n",
    "for i in range(n):\n",
    "    for j in range(n):\n",
    "        k = i * n + j\n",
    "        plt.subplot(n, n, k + 1)\n",
    "        plt.imshow(X_true_train[k, :, :, 0], vmin=0, vmax=max_energy)\n",
    "\n",
    "plt.show()"
   ]
  },
  {
   "cell_type": "markdown",
   "metadata": {},
   "source": [
    "### Aggregated events"
   ]
  },
  {
   "cell_type": "code",
   "execution_count": 12,
   "metadata": {},
   "outputs": [
    {
     "data": {
      "image/png": "[encoded data removed]",
      "text/plain": [
       "<Figure size 432x432 with 1 Axes>"
      ]
     },
     "metadata": {
      "needs_background": "light"
     },
     "output_type": "display_data"
    }
   ],
   "source": [
    "plt.figure(figsize=(6, 6))\n",
    "plt.imshow(np.sum(X_true_train, axis=(0, 3)), vmin=0)\n",
    "plt.show()"
   ]
  },
  {
   "cell_type": "markdown",
   "metadata": {},
   "source": [
    "## Discriminator"
   ]
  },
  {
   "cell_type": "code",
   "execution_count": 13,
   "metadata": {},
   "outputs": [],
   "source": [
    "from keras.models import Model\n",
    "from keras.layers import Input, Conv2D, MaxPool2D, Dense, Flatten, GlobalMaxPool2D\n",
    "from keras.activations import softplus, sigmoid, relu\n",
    "\n",
    "from keras.utils.vis_utils import model_to_dot"
   ]
  },
  {
   "cell_type": "markdown",
   "metadata": {},
   "source": [
    "### Building conv net"
   ]
  },
  {
   "cell_type": "code",
   "execution_count": 14,
   "metadata": {},
   "outputs": [],
   "source": [
    "inputs = Input(shape=(32, 32, 1))\n",
    "\n",
    "activation = lambda x: relu(x, 0.05)\n",
    "\n",
    "net = Conv2D(8, kernel_size=(3, 3), padding='same', activation=activation)(inputs)\n",
    "net = MaxPool2D(pool_size=(2, 2))(net)\n",
    "\n",
    "net = Conv2D(12, kernel_size=(3, 3), padding='same', activation=activation)(net)\n",
    "net = MaxPool2D(pool_size=(2, 2))(net)\n",
    "# net = GlobalMaxPool2D()(net)\n",
    "\n",
    "\n",
    "net = Conv2D(16, kernel_size=(3, 3), padding='same', activation=activation)(net)\n",
    "net = MaxPool2D(pool_size=(2, 2))(net)\n",
    "\n",
    "net = Conv2D(24, kernel_size=(3, 3), padding='same', activation=activation)(net)\n",
    "net = MaxPool2D(pool_size=(2, 2))(net)\n",
    "\n",
    "net = Flatten()(net)\n",
    "predictions = Dense(1, activation=sigmoid)(net)\n",
    "\n",
    "discriminator = Model(inputs=inputs, outputs=predictions)\n",
    "\n",
    "discriminator.compile(optimizer='adam', loss='binary_crossentropy')"
   ]
  },
  {
   "cell_type": "code",
   "execution_count": 15,
   "metadata": {},
   "outputs": [
    {
     "data": {
      "image/svg+xml": [
       "<svg height=\"896pt\" viewBox=\"0.00 0.00 388.00 896.00\" width=\"388pt\" xmlns=\"http://www.w3.org/2000/svg\" xmlns:xlink=\"http://www.w3.org/1999/xlink\">\n",
       "<g class=\"graph\" id=\"graph0\" transform=\"scale(1 1) rotate(0) translate(4 892)\">\n",
       "<title>G</title>\n",
       "<polygon fill=\"white\" points=\"-4,5 -4,-892 385,-892 385,5 -4,5\" stroke=\"white\"/>\n",
       "<!-- 140097639508680 -->\n",
       "<g class=\"node\" id=\"node1\"><title>140097639508680</title>\n",
       "<polygon fill=\"none\" points=\"44.5,-841 44.5,-887 335.5,-887 335.5,-841 44.5,-841\" stroke=\"black\"/>\n",
       "<text font-family=\"Times,serif\" font-size=\"14.00\" text-anchor=\"middle\" x=\"107\" y=\"-860.3\">input_1: InputLayer</text>\n",
       "<polyline fill=\"none\" points=\"169.5,-841 169.5,-887 \" stroke=\"black\"/>\n",
       "<text font-family=\"Times,serif\" font-size=\"14.00\" text-anchor=\"middle\" x=\"197\" y=\"-871.8\">input:</text>\n",
       "<polyline fill=\"none\" points=\"169.5,-864 224.5,-864 \" stroke=\"black\"/>\n",
       "<text font-family=\"Times,serif\" font-size=\"14.00\" text-anchor=\"middle\" x=\"197\" y=\"-848.8\">output:</text>\n",
       "<polyline fill=\"none\" points=\"224.5,-841 224.5,-887 \" stroke=\"black\"/>\n",
       "<text font-family=\"Times,serif\" font-size=\"14.00\" text-anchor=\"middle\" x=\"280\" y=\"-871.8\">(None, 32, 32, 1)</text>\n",
       "<polyline fill=\"none\" points=\"224.5,-864 335.5,-864 \" stroke=\"black\"/>\n",
       "<text font-family=\"Times,serif\" font-size=\"14.00\" text-anchor=\"middle\" x=\"280\" y=\"-848.8\">(None, 32, 32, 1)</text>\n",
       "</g>\n",
       "<!-- 140097639508736 -->\n",
       "<g class=\"node\" id=\"node2\"><title>140097639508736</title>\n",
       "<polygon fill=\"none\" points=\"45.5,-757 45.5,-803 334.5,-803 334.5,-757 45.5,-757\" stroke=\"black\"/>\n",
       "<text font-family=\"Times,serif\" font-size=\"14.00\" text-anchor=\"middle\" x=\"107\" y=\"-776.3\">conv2d_1: Conv2D</text>\n",
       "<polyline fill=\"none\" points=\"168.5,-757 168.5,-803 \" stroke=\"black\"/>\n",
       "<text font-family=\"Times,serif\" font-size=\"14.00\" text-anchor=\"middle\" x=\"196\" y=\"-787.8\">input:</text>\n",
       "<polyline fill=\"none\" points=\"168.5,-780 223.5,-780 \" stroke=\"black\"/>\n",
       "<text font-family=\"Times,serif\" font-size=\"14.00\" text-anchor=\"middle\" x=\"196\" y=\"-764.8\">output:</text>\n",
       "<polyline fill=\"none\" points=\"223.5,-757 223.5,-803 \" stroke=\"black\"/>\n",
       "<text font-family=\"Times,serif\" font-size=\"14.00\" text-anchor=\"middle\" x=\"279\" y=\"-787.8\">(None, 32, 32, 1)</text>\n",
       "<polyline fill=\"none\" points=\"223.5,-780 334.5,-780 \" stroke=\"black\"/>\n",
       "<text font-family=\"Times,serif\" font-size=\"14.00\" text-anchor=\"middle\" x=\"279\" y=\"-764.8\">(None, 32, 32, 8)</text>\n",
       "</g>\n",
       "<!-- 140097639508680&#45;&gt;140097639508736 -->\n",
       "<g class=\"edge\" id=\"edge1\"><title>140097639508680-&gt;140097639508736</title>\n",
       "<path d=\"M190,-840.593C190,-832.118 190,-822.297 190,-813.104\" fill=\"none\" stroke=\"black\"/>\n",
       "<polygon fill=\"black\" points=\"193.5,-813.096 190,-803.096 186.5,-813.096 193.5,-813.096\" stroke=\"black\"/>\n",
       "</g>\n",
       "<!-- 140097639507840 -->\n",
       "<g class=\"node\" id=\"node3\"><title>140097639507840</title>\n",
       "<polygon fill=\"none\" points=\"3.5,-673 3.5,-719 376.5,-719 376.5,-673 3.5,-673\" stroke=\"black\"/>\n",
       "<text font-family=\"Times,serif\" font-size=\"14.00\" text-anchor=\"middle\" x=\"107\" y=\"-692.3\">max_pooling2d_1: MaxPooling2D</text>\n",
       "<polyline fill=\"none\" points=\"210.5,-673 210.5,-719 \" stroke=\"black\"/>\n",
       "<text font-family=\"Times,serif\" font-size=\"14.00\" text-anchor=\"middle\" x=\"238\" y=\"-703.8\">input:</text>\n",
       "<polyline fill=\"none\" points=\"210.5,-696 265.5,-696 \" stroke=\"black\"/>\n",
       "<text font-family=\"Times,serif\" font-size=\"14.00\" text-anchor=\"middle\" x=\"238\" y=\"-680.8\">output:</text>\n",
       "<polyline fill=\"none\" points=\"265.5,-673 265.5,-719 \" stroke=\"black\"/>\n",
       "<text font-family=\"Times,serif\" font-size=\"14.00\" text-anchor=\"middle\" x=\"321\" y=\"-703.8\">(None, 32, 32, 8)</text>\n",
       "<polyline fill=\"none\" points=\"265.5,-696 376.5,-696 \" stroke=\"black\"/>\n",
       "<text font-family=\"Times,serif\" font-size=\"14.00\" text-anchor=\"middle\" x=\"321\" y=\"-680.8\">(None, 16, 16, 8)</text>\n",
       "</g>\n",
       "<!-- 140097639508736&#45;&gt;140097639507840 -->\n",
       "<g class=\"edge\" id=\"edge2\"><title>140097639508736-&gt;140097639507840</title>\n",
       "<path d=\"M190,-756.593C190,-748.118 190,-738.297 190,-729.104\" fill=\"none\" stroke=\"black\"/>\n",
       "<polygon fill=\"black\" points=\"193.5,-729.096 190,-719.096 186.5,-729.096 193.5,-729.096\" stroke=\"black\"/>\n",
       "</g>\n",
       "<!-- 140097639623592 -->\n",
       "<g class=\"node\" id=\"node4\"><title>140097639623592</title>\n",
       "<polygon fill=\"none\" points=\"42,-589 42,-635 338,-635 338,-589 42,-589\" stroke=\"black\"/>\n",
       "<text font-family=\"Times,serif\" font-size=\"14.00\" text-anchor=\"middle\" x=\"103.5\" y=\"-608.3\">conv2d_2: Conv2D</text>\n",
       "<polyline fill=\"none\" points=\"165,-589 165,-635 \" stroke=\"black\"/>\n",
       "<text font-family=\"Times,serif\" font-size=\"14.00\" text-anchor=\"middle\" x=\"192.5\" y=\"-619.8\">input:</text>\n",
       "<polyline fill=\"none\" points=\"165,-612 220,-612 \" stroke=\"black\"/>\n",
       "<text font-family=\"Times,serif\" font-size=\"14.00\" text-anchor=\"middle\" x=\"192.5\" y=\"-596.8\">output:</text>\n",
       "<polyline fill=\"none\" points=\"220,-589 220,-635 \" stroke=\"black\"/>\n",
       "<text font-family=\"Times,serif\" font-size=\"14.00\" text-anchor=\"middle\" x=\"279\" y=\"-619.8\">(None, 16, 16, 8)</text>\n",
       "<polyline fill=\"none\" points=\"220,-612 338,-612 \" stroke=\"black\"/>\n",
       "<text font-family=\"Times,serif\" font-size=\"14.00\" text-anchor=\"middle\" x=\"279\" y=\"-596.8\">(None, 16, 16, 12)</text>\n",
       "</g>\n",
       "<!-- 140097639507840&#45;&gt;140097639623592 -->\n",
       "<g class=\"edge\" id=\"edge3\"><title>140097639507840-&gt;140097639623592</title>\n",
       "<path d=\"M190,-672.593C190,-664.118 190,-654.297 190,-645.104\" fill=\"none\" stroke=\"black\"/>\n",
       "<polygon fill=\"black\" points=\"193.5,-645.096 190,-635.096 186.5,-645.096 193.5,-645.096\" stroke=\"black\"/>\n",
       "</g>\n",
       "<!-- 140097639622696 -->\n",
       "<g class=\"node\" id=\"node5\"><title>140097639622696</title>\n",
       "<polygon fill=\"none\" points=\"0,-505 0,-551 380,-551 380,-505 0,-505\" stroke=\"black\"/>\n",
       "<text font-family=\"Times,serif\" font-size=\"14.00\" text-anchor=\"middle\" x=\"103.5\" y=\"-524.3\">max_pooling2d_2: MaxPooling2D</text>\n",
       "<polyline fill=\"none\" points=\"207,-505 207,-551 \" stroke=\"black\"/>\n",
       "<text font-family=\"Times,serif\" font-size=\"14.00\" text-anchor=\"middle\" x=\"234.5\" y=\"-535.8\">input:</text>\n",
       "<polyline fill=\"none\" points=\"207,-528 262,-528 \" stroke=\"black\"/>\n",
       "<text font-family=\"Times,serif\" font-size=\"14.00\" text-anchor=\"middle\" x=\"234.5\" y=\"-512.8\">output:</text>\n",
       "<polyline fill=\"none\" points=\"262,-505 262,-551 \" stroke=\"black\"/>\n",
       "<text font-family=\"Times,serif\" font-size=\"14.00\" text-anchor=\"middle\" x=\"321\" y=\"-535.8\">(None, 16, 16, 12)</text>\n",
       "<polyline fill=\"none\" points=\"262,-528 380,-528 \" stroke=\"black\"/>\n",
       "<text font-family=\"Times,serif\" font-size=\"14.00\" text-anchor=\"middle\" x=\"321\" y=\"-512.8\">(None, 8, 8, 12)</text>\n",
       "</g>\n",
       "<!-- 140097639623592&#45;&gt;140097639622696 -->\n",
       "<g class=\"edge\" id=\"edge4\"><title>140097639623592-&gt;140097639622696</title>\n",
       "<path d=\"M190,-588.593C190,-580.118 190,-570.297 190,-561.104\" fill=\"none\" stroke=\"black\"/>\n",
       "<polygon fill=\"black\" points=\"193.5,-561.096 190,-551.096 186.5,-561.096 193.5,-561.096\" stroke=\"black\"/>\n",
       "</g>\n",
       "<!-- 140097605742264 -->\n",
       "<g class=\"node\" id=\"node6\"><title>140097605742264</title>\n",
       "<polygon fill=\"none\" points=\"49,-421 49,-467 331,-467 331,-421 49,-421\" stroke=\"black\"/>\n",
       "<text font-family=\"Times,serif\" font-size=\"14.00\" text-anchor=\"middle\" x=\"110.5\" y=\"-440.3\">conv2d_3: Conv2D</text>\n",
       "<polyline fill=\"none\" points=\"172,-421 172,-467 \" stroke=\"black\"/>\n",
       "<text font-family=\"Times,serif\" font-size=\"14.00\" text-anchor=\"middle\" x=\"199.5\" y=\"-451.8\">input:</text>\n",
       "<polyline fill=\"none\" points=\"172,-444 227,-444 \" stroke=\"black\"/>\n",
       "<text font-family=\"Times,serif\" font-size=\"14.00\" text-anchor=\"middle\" x=\"199.5\" y=\"-428.8\">output:</text>\n",
       "<polyline fill=\"none\" points=\"227,-421 227,-467 \" stroke=\"black\"/>\n",
       "<text font-family=\"Times,serif\" font-size=\"14.00\" text-anchor=\"middle\" x=\"279\" y=\"-451.8\">(None, 8, 8, 12)</text>\n",
       "<polyline fill=\"none\" points=\"227,-444 331,-444 \" stroke=\"black\"/>\n",
       "<text font-family=\"Times,serif\" font-size=\"14.00\" text-anchor=\"middle\" x=\"279\" y=\"-428.8\">(None, 8, 8, 16)</text>\n",
       "</g>\n",
       "<!-- 140097639622696&#45;&gt;140097605742264 -->\n",
       "<g class=\"edge\" id=\"edge5\"><title>140097639622696-&gt;140097605742264</title>\n",
       "<path d=\"M190,-504.593C190,-496.118 190,-486.297 190,-477.104\" fill=\"none\" stroke=\"black\"/>\n",
       "<polygon fill=\"black\" points=\"193.5,-477.096 190,-467.096 186.5,-477.096 193.5,-477.096\" stroke=\"black\"/>\n",
       "</g>\n",
       "<!-- 140097521215304 -->\n",
       "<g class=\"node\" id=\"node7\"><title>140097521215304</title>\n",
       "<polygon fill=\"none\" points=\"7,-337 7,-383 373,-383 373,-337 7,-337\" stroke=\"black\"/>\n",
       "<text font-family=\"Times,serif\" font-size=\"14.00\" text-anchor=\"middle\" x=\"110.5\" y=\"-356.3\">max_pooling2d_3: MaxPooling2D</text>\n",
       "<polyline fill=\"none\" points=\"214,-337 214,-383 \" stroke=\"black\"/>\n",
       "<text font-family=\"Times,serif\" font-size=\"14.00\" text-anchor=\"middle\" x=\"241.5\" y=\"-367.8\">input:</text>\n",
       "<polyline fill=\"none\" points=\"214,-360 269,-360 \" stroke=\"black\"/>\n",
       "<text font-family=\"Times,serif\" font-size=\"14.00\" text-anchor=\"middle\" x=\"241.5\" y=\"-344.8\">output:</text>\n",
       "<polyline fill=\"none\" points=\"269,-337 269,-383 \" stroke=\"black\"/>\n",
       "<text font-family=\"Times,serif\" font-size=\"14.00\" text-anchor=\"middle\" x=\"321\" y=\"-367.8\">(None, 8, 8, 16)</text>\n",
       "<polyline fill=\"none\" points=\"269,-360 373,-360 \" stroke=\"black\"/>\n",
       "<text font-family=\"Times,serif\" font-size=\"14.00\" text-anchor=\"middle\" x=\"321\" y=\"-344.8\">(None, 4, 4, 16)</text>\n",
       "</g>\n",
       "<!-- 140097605742264&#45;&gt;140097521215304 -->\n",
       "<g class=\"edge\" id=\"edge6\"><title>140097605742264-&gt;140097521215304</title>\n",
       "<path d=\"M190,-420.593C190,-412.118 190,-402.297 190,-393.104\" fill=\"none\" stroke=\"black\"/>\n",
       "<polygon fill=\"black\" points=\"193.5,-393.096 190,-383.096 186.5,-393.096 193.5,-393.096\" stroke=\"black\"/>\n",
       "</g>\n",
       "<!-- 140097521303392 -->\n",
       "<g class=\"node\" id=\"node8\"><title>140097521303392</title>\n",
       "<polygon fill=\"none\" points=\"49,-253 49,-299 331,-299 331,-253 49,-253\" stroke=\"black\"/>\n",
       "<text font-family=\"Times,serif\" font-size=\"14.00\" text-anchor=\"middle\" x=\"110.5\" y=\"-272.3\">conv2d_4: Conv2D</text>\n",
       "<polyline fill=\"none\" points=\"172,-253 172,-299 \" stroke=\"black\"/>\n",
       "<text font-family=\"Times,serif\" font-size=\"14.00\" text-anchor=\"middle\" x=\"199.5\" y=\"-283.8\">input:</text>\n",
       "<polyline fill=\"none\" points=\"172,-276 227,-276 \" stroke=\"black\"/>\n",
       "<text font-family=\"Times,serif\" font-size=\"14.00\" text-anchor=\"middle\" x=\"199.5\" y=\"-260.8\">output:</text>\n",
       "<polyline fill=\"none\" points=\"227,-253 227,-299 \" stroke=\"black\"/>\n",
       "<text font-family=\"Times,serif\" font-size=\"14.00\" text-anchor=\"middle\" x=\"279\" y=\"-283.8\">(None, 4, 4, 16)</text>\n",
       "<polyline fill=\"none\" points=\"227,-276 331,-276 \" stroke=\"black\"/>\n",
       "<text font-family=\"Times,serif\" font-size=\"14.00\" text-anchor=\"middle\" x=\"279\" y=\"-260.8\">(None, 4, 4, 24)</text>\n",
       "</g>\n",
       "<!-- 140097521215304&#45;&gt;140097521303392 -->\n",
       "<g class=\"edge\" id=\"edge7\"><title>140097521215304-&gt;140097521303392</title>\n",
       "<path d=\"M190,-336.593C190,-328.118 190,-318.297 190,-309.104\" fill=\"none\" stroke=\"black\"/>\n",
       "<polygon fill=\"black\" points=\"193.5,-309.096 190,-299.096 186.5,-309.096 193.5,-309.096\" stroke=\"black\"/>\n",
       "</g>\n",
       "<!-- 140097521383240 -->\n",
       "<g class=\"node\" id=\"node9\"><title>140097521383240</title>\n",
       "<polygon fill=\"none\" points=\"7,-169 7,-215 373,-215 373,-169 7,-169\" stroke=\"black\"/>\n",
       "<text font-family=\"Times,serif\" font-size=\"14.00\" text-anchor=\"middle\" x=\"110.5\" y=\"-188.3\">max_pooling2d_4: MaxPooling2D</text>\n",
       "<polyline fill=\"none\" points=\"214,-169 214,-215 \" stroke=\"black\"/>\n",
       "<text font-family=\"Times,serif\" font-size=\"14.00\" text-anchor=\"middle\" x=\"241.5\" y=\"-199.8\">input:</text>\n",
       "<polyline fill=\"none\" points=\"214,-192 269,-192 \" stroke=\"black\"/>\n",
       "<text font-family=\"Times,serif\" font-size=\"14.00\" text-anchor=\"middle\" x=\"241.5\" y=\"-176.8\">output:</text>\n",
       "<polyline fill=\"none\" points=\"269,-169 269,-215 \" stroke=\"black\"/>\n",
       "<text font-family=\"Times,serif\" font-size=\"14.00\" text-anchor=\"middle\" x=\"321\" y=\"-199.8\">(None, 4, 4, 24)</text>\n",
       "<polyline fill=\"none\" points=\"269,-192 373,-192 \" stroke=\"black\"/>\n",
       "<text font-family=\"Times,serif\" font-size=\"14.00\" text-anchor=\"middle\" x=\"321\" y=\"-176.8\">(None, 2, 2, 24)</text>\n",
       "</g>\n",
       "<!-- 140097521303392&#45;&gt;140097521383240 -->\n",
       "<g class=\"edge\" id=\"edge8\"><title>140097521303392-&gt;140097521383240</title>\n",
       "<path d=\"M190,-252.593C190,-244.118 190,-234.297 190,-225.104\" fill=\"none\" stroke=\"black\"/>\n",
       "<polygon fill=\"black\" points=\"193.5,-225.096 190,-215.096 186.5,-225.096 193.5,-225.096\" stroke=\"black\"/>\n",
       "</g>\n",
       "<!-- 140097520959160 -->\n",
       "<g class=\"node\" id=\"node10\"><title>140097520959160</title>\n",
       "<polygon fill=\"none\" points=\"55.5,-85 55.5,-131 324.5,-131 324.5,-85 55.5,-85\" stroke=\"black\"/>\n",
       "<text font-family=\"Times,serif\" font-size=\"14.00\" text-anchor=\"middle\" x=\"110.5\" y=\"-104.3\">flatten_1: Flatten</text>\n",
       "<polyline fill=\"none\" points=\"165.5,-85 165.5,-131 \" stroke=\"black\"/>\n",
       "<text font-family=\"Times,serif\" font-size=\"14.00\" text-anchor=\"middle\" x=\"193\" y=\"-115.8\">input:</text>\n",
       "<polyline fill=\"none\" points=\"165.5,-108 220.5,-108 \" stroke=\"black\"/>\n",
       "<text font-family=\"Times,serif\" font-size=\"14.00\" text-anchor=\"middle\" x=\"193\" y=\"-92.8\">output:</text>\n",
       "<polyline fill=\"none\" points=\"220.5,-85 220.5,-131 \" stroke=\"black\"/>\n",
       "<text font-family=\"Times,serif\" font-size=\"14.00\" text-anchor=\"middle\" x=\"272.5\" y=\"-115.8\">(None, 2, 2, 24)</text>\n",
       "<polyline fill=\"none\" points=\"220.5,-108 324.5,-108 \" stroke=\"black\"/>\n",
       "<text font-family=\"Times,serif\" font-size=\"14.00\" text-anchor=\"middle\" x=\"272.5\" y=\"-92.8\">(None, 96)</text>\n",
       "</g>\n",
       "<!-- 140097521383240&#45;&gt;140097520959160 -->\n",
       "<g class=\"edge\" id=\"edge9\"><title>140097521383240-&gt;140097520959160</title>\n",
       "<path d=\"M190,-168.593C190,-160.118 190,-150.297 190,-141.104\" fill=\"none\" stroke=\"black\"/>\n",
       "<polygon fill=\"black\" points=\"193.5,-141.096 190,-131.096 186.5,-141.096 193.5,-141.096\" stroke=\"black\"/>\n",
       "</g>\n",
       "<!-- 140097521047200 -->\n",
       "<g class=\"node\" id=\"node11\"><title>140097521047200</title>\n",
       "<polygon fill=\"none\" points=\"73.5,-1 73.5,-47 306.5,-47 306.5,-1 73.5,-1\" stroke=\"black\"/>\n",
       "<text font-family=\"Times,serif\" font-size=\"14.00\" text-anchor=\"middle\" x=\"124.5\" y=\"-20.3\">dense_1: Dense</text>\n",
       "<polyline fill=\"none\" points=\"175.5,-1 175.5,-47 \" stroke=\"black\"/>\n",
       "<text font-family=\"Times,serif\" font-size=\"14.00\" text-anchor=\"middle\" x=\"203\" y=\"-31.8\">input:</text>\n",
       "<polyline fill=\"none\" points=\"175.5,-24 230.5,-24 \" stroke=\"black\"/>\n",
       "<text font-family=\"Times,serif\" font-size=\"14.00\" text-anchor=\"middle\" x=\"203\" y=\"-8.8\">output:</text>\n",
       "<polyline fill=\"none\" points=\"230.5,-1 230.5,-47 \" stroke=\"black\"/>\n",
       "<text font-family=\"Times,serif\" font-size=\"14.00\" text-anchor=\"middle\" x=\"268.5\" y=\"-31.8\">(None, 96)</text>\n",
       "<polyline fill=\"none\" points=\"230.5,-24 306.5,-24 \" stroke=\"black\"/>\n",
       "<text font-family=\"Times,serif\" font-size=\"14.00\" text-anchor=\"middle\" x=\"268.5\" y=\"-8.8\">(None, 1)</text>\n",
       "</g>\n",
       "<!-- 140097520959160&#45;&gt;140097521047200 -->\n",
       "<g class=\"edge\" id=\"edge10\"><title>140097520959160-&gt;140097521047200</title>\n",
       "<path d=\"M190,-84.5931C190,-76.1177 190,-66.2974 190,-57.104\" fill=\"none\" stroke=\"black\"/>\n",
       "<polygon fill=\"black\" points=\"193.5,-57.0958 190,-47.0959 186.5,-57.0959 193.5,-57.0958\" stroke=\"black\"/>\n",
       "</g>\n",
       "</g>\n",
       "</svg>"
      ],
      "text/plain": [
       "<IPython.core.display.SVG object>"
      ]
     },
     "execution_count": 15,
     "metadata": {},
     "output_type": "execute_result"
    }
   ],
   "source": [
    "from IPython import display\n",
    "from IPython.display import SVG\n",
    "\n",
    "SVG(model_to_dot(discriminator, show_shapes=True).create(prog='dot', format='svg'))"
   ]
  },
  {
   "cell_type": "markdown",
   "metadata": {},
   "source": [
    "In Adversarial Variational Optimization, instead of searching for a single value of detector parameters, a parametrized distribution is introduced (with parameters $\\psi$):\n",
    "\n",
    "$$\\mathcal{L}(\\psi) = \\mathrm{JS}(X_\\psi, X_\\mathrm{data})$$\n",
    "where:\n",
    "- $X_\\psi \\sim \\mathrm{detector}(\\theta), \\theta \\sim P_\\psi$;\n",
    "- $X_\\mathrm{data} \\sim \\mathrm{reality}$.\n",
    "\n",
    "Note that $\\mathcal{L}(\\psi)$ is a vaiational bound on adversarial loss:\n",
    "\n",
    "$$\\mathcal{L}(\\psi) \\geq \\min_\\theta \\mathcal{L}_\\mathrm{adv}(\\theta) = \\mathrm{JS}(X_\\theta, X_\\mathrm{data})$$\n",
    "\n",
    "In this example, detector parameters consist of a single `offset` parameter. For simplicity normal distibution is used:\n",
    "\n",
    "$$\\mathrm{offset} \\sim \\mathcal{N}(\\mu, \\sigma)$$\n",
    "\n",
    "\n",
    "In order to avoid introducing constraints $\\sigma \\geq 0$, an auxiliary *free variable* $\\sigma'$ is introduced (denoted as `detector_params_sigma_raw` in the code):\n",
    "$$\\sigma = \\log(1 + \\exp(\\sigma'))$$\n",
    "\n",
    "Note that if there exists configuration of detector perfectly matching real data, then minimum of variational bound is achieved when the `offset` distribution collapses into delta function with the center at minumum of adversarial loss.\n",
    "Otherwise, a mixture of detector configuations might be a solution (unlike convetional variational optimization)."
   ]
  },
  {
   "cell_type": "code",
   "execution_count": 26,
   "metadata": {},
   "outputs": [],
   "source": [
    "X = tf.placeholder(dtype='float32', shape=(None, 32, 32, 1))\n",
    "\n",
    "proba = discriminator(X)[:, 0]\n",
    "\n",
    "detector_params = tf.placeholder(dtype='float32', shape=(None, 1))\n",
    "\n",
    "detector_params_mean = tf.Variable(\n",
    "    initial_value=np.array([3.0], dtype='float32'),\n",
    "    dtype='float32'\n",
    ")\n",
    "\n",
    "detector_params_sigma_raw = tf.Variable(\n",
    "    initial_value=np.array([0.2], dtype='float32'),\n",
    "    dtype='float32'\n",
    ")\n",
    "\n",
    "detector_params_sigma = tf.nn.softplus(detector_params_sigma_raw)\n",
    "\n",
    "neg_log_prob = tf.reduce_sum(\n",
    "    tf.log(detector_params_sigma)\n",
    ") + tf.reduce_sum(\n",
    "    0.5 * (detector_params - detector_params_mean[None, :]) ** 2 / detector_params_sigma[None, :] ** 2\n",
    "    , axis=1\n",
    ")\n",
    "\n",
    "detector_params_loss = tf.reduce_mean(neg_log_prob * proba)"
   ]
  },
  {
   "cell_type": "code",
   "execution_count": 27,
   "metadata": {},
   "outputs": [],
   "source": [
    "get_distribution_params = lambda : tf_session.run([detector_params_mean, detector_params_sigma])"
   ]
  },
  {
   "cell_type": "code",
   "execution_count": 28,
   "metadata": {},
   "outputs": [],
   "source": [
    "n = tf.placeholder(dtype='int64', shape=())\n",
    "params_sample = tf.random_normal(\n",
    "    mean=detector_params_mean,\n",
    "    stddev=detector_params_sigma,\n",
    "    shape=(n, 1),\n",
    "    dtype='float32'\n",
    ")"
   ]
  },
  {
   "cell_type": "code",
   "execution_count": 29,
   "metadata": {},
   "outputs": [],
   "source": [
    "distribution_opt = tf.train.AdamOptimizer(learning_rate=0.02).minimize(\n",
    "    detector_params_loss, var_list=[detector_params_mean, detector_params_sigma_raw]\n",
    ")"
   ]
  },
  {
   "cell_type": "code",
   "execution_count": 30,
   "metadata": {},
   "outputs": [],
   "source": [
    "tf_session.run(tf.global_variables_initializer())"
   ]
  },
  {
   "cell_type": "code",
   "execution_count": 31,
   "metadata": {},
   "outputs": [],
   "source": [
    "def train_discriminator(n_samples=2 ** 16, n_epoches=16, plot=False):\n",
    "    sample_of_detector_params = tf_session.run(params_sample, { n : n_samples // 8 })\n",
    "    \n",
    "    _, X_gen_train = get_data(\n",
    "        mill,\n",
    "        detector_configurations=sample_of_detector_params,\n",
    "        show_progress=True\n",
    "    )\n",
    "    \n",
    "    X_train = np.vstack([ X_gen_train, X_true_train ])\n",
    "    y_train = np.hstack([ np.zeros(X_gen_train.shape[0]), np.ones(X_true_train.shape[0]) ]).astype('float32')\n",
    "    \n",
    "    history = discriminator.fit(x=X_train, y=y_train, batch_size=32, epochs=n_epoches, verbose=0)\n",
    "    \n",
    "    if plot:\n",
    "        plt.figure(figsize=(8, 4))\n",
    "        plt.plot(history.history['loss'], label='train loss')\n",
    "        plt.legend()\n",
    "        plt.show()"
   ]
  },
  {
   "cell_type": "code",
   "execution_count": 32,
   "metadata": {},
   "outputs": [],
   "source": [
    "def train_generator():\n",
    "    sample_of_detector_params = tf_session.run(params_sample, { n : 2 ** 8 })\n",
    "    params_train, X_gen_train = get_data(mill, detector_configurations=sample_of_detector_params)\n",
    "    \n",
    "    tf_session.run(\n",
    "        distribution_opt,\n",
    "        feed_dict={\n",
    "            X : X_gen_train,\n",
    "            detector_params : params_train\n",
    "        }\n",
    "    )"
   ]
  },
  {
   "cell_type": "markdown",
   "metadata": {},
   "source": [
    "## Pretraining"
   ]
  },
  {
   "cell_type": "markdown",
   "metadata": {},
   "source": [
    "AVO makes small changes in parameter distribution. When starting with the optimal discriminator from the previous iterations, adjusting discriminator to these changes should require relatively few optimization steps.\n",
    "\n",
    "However, the initial discriminator state (which is just random weights), most probably, does not correspond to any optimal discriminator. Therefore, we pretrain discriminator in order to ensure that only a few epoches needed on each iteration to achieve an optimal discriminator."
   ]
  },
  {
   "cell_type": "code",
   "execution_count": 33,
   "metadata": {},
   "outputs": [
    {
     "data": {
      "application/vnd.jupyter.widget-view+json": {
       "model_id": "",
       "version_major": 2,
       "version_minor": 0
      },
      "text/plain": [
       "HBox(children=(IntProgress(value=0, max=8192), HTML(value='')))"
      ]
     },
     "metadata": {},
     "output_type": "display_data"
    },
    {
     "name": "stdout",
     "output_type": "stream",
     "text": [
      "\r"
     ]
    },
    {
     "data": {
      "image/png": "[encoded data removed]",
      "text/plain": [
       "<Figure size 576x288 with 1 Axes>"
      ]
     },
     "metadata": {
      "needs_background": "light"
     },
     "output_type": "display_data"
    },
    {
     "name": "stdout",
     "output_type": "stream",
     "text": [
      "CPU times: user 5min, sys: 33.5 s, total: 5min 33s\n",
      "Wall time: 3min 29s\n"
     ]
    }
   ],
   "source": [
    "%%time\n",
    "\n",
    "train_discriminator(n_samples=2**16, n_epoches=4, plot=True)\n",
    "m,s = get_distribution_params()\n",
    "print (m,s)"
   ]
  },
  {
   "cell_type": "markdown",
   "metadata": {},
   "source": [
    "## Variational optimization"
   ]
  },
  {
   "cell_type": "code",
   "execution_count": 34,
   "metadata": {
    "scrolled": false
   },
   "outputs": [
    {
     "data": {
      "image/png": "[encoded data removed]",
      "text/plain": [
       "<Figure size 1296x648 with 1 Axes>"
      ]
     },
     "metadata": {
      "needs_background": "light"
     },
     "output_type": "display_data"
    },
    {
     "name": "stdout",
     "output_type": "stream",
     "text": [
      "CPU times: user 48min 21s, sys: 5min 19s, total: 53min 41s\n",
      "Wall time: 33min 15s\n"
     ]
    }
   ],
   "source": [
    "%%time\n",
    "from IPython import display\n",
    "\n",
    "n_iterations = 100\n",
    "\n",
    "generator_mean_history = np.ndarray(shape=(n_iterations, ))\n",
    "generator_sigma_history = np.ndarray(shape=(n_iterations, ))\n",
    "\n",
    "for i in range(n_iterations):\n",
    "    train_discriminator(n_samples=2**12, n_epoches=1)\n",
    "    train_generator()\n",
    "    \n",
    "    m, s = get_distribution_params()\n",
    "    generator_mean_history[i] = np.float32(m[0])\n",
    "    generator_sigma_history[i] = np.float32(s[0])\n",
    "    \n",
    "    display.clear_output(wait=True)\n",
    "    \n",
    "    plt.figure(figsize=(18, 9))\n",
    "    plt.plot(generator_mean_history[:i + 1], color='blue', label='mean ($\\\\mu$)')\n",
    "\n",
    "    plt.fill_between(\n",
    "        np.arange(i + 1),\n",
    "        generator_mean_history[:i + 1] - generator_sigma_history[:i + 1],\n",
    "        generator_mean_history[:i + 1] + generator_sigma_history[:i + 1],\n",
    "        color='blue',\n",
    "        label='sigma ($\\\\sigma$)',\n",
    "        alpha=0.2\n",
    "    )\n",
    "    \n",
    "    plt.plot([0, n_iterations - 1], [TRUE_OFFSET, TRUE_OFFSET], '--', color='black', alpha=0.5, label='ground truth')\n",
    "    plt.ylim([-7, 7])\n",
    "    plt.legend(loc='upper left', fontsize=18)\n",
    "    plt.legend(fontsize=18)\n",
    "    plt.xlabel('AVO step', fontsize=16)\n",
    "    plt.ylabel('detector offset', fontsize=16)\n",
    "    plt.show()"
   ]
  },
  {
   "cell_type": "code",
   "execution_count": 25,
   "metadata": {},
   "outputs": [
    {
     "name": "stdout",
     "output_type": "stream",
     "text": [
      "2362564 Kb\n"
     ]
    }
   ],
   "source": [
    "import resource\n",
    "print(\"{} Kb\".format(resource.getrusage(resource.RUSAGE_SELF).ru_maxrss))"
   ]
  },
  {
   "cell_type": "code",
   "execution_count": null,
   "metadata": {},
   "outputs": [],
   "source": []
  }
 ],
 "metadata": {
  "kernelspec": {
   "display_name": "Python 3",
   "language": "python",
   "name": "python3"
  },
  "language_info": {
   "codemirror_mode": {
    "name": "ipython",
    "version": 3
   },
   "file_extension": ".py",
   "mimetype": "text/x-python",
   "name": "python",
   "nbconvert_exporter": "python",
   "pygments_lexer": "ipython3",
   "version": "3.6.8"
  }
 },
 "nbformat": 4,
 "nbformat_minor": 2
}
