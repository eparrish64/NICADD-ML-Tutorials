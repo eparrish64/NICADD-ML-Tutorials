{
 "cells": [
  {
   "cell_type": "markdown",
   "metadata": {},
   "source": [
    "# Adversarial Variational Optimization: PYTHIA Tuning\n",
    "\n",
    "In this notebook Adversarial Variational Optimization (https://arxiv.org/abs/1707.07113) is applied to tuning parameters of a simplistic detector.\n",
    "\n",
    "**Note: this notebook takes quite a long time to execute. It is recommended to run all cells at the beginning.**"
   ]
  },
  {
   "cell_type": "markdown",
   "metadata": {},
   "source": [
    "**Please, don't interrupt the notebook while sampling from PythiaMill. Otherwise it might stuck at the next attempt to sample from it. IF this happens, please, restart the notebook.**"
   ]
  },
  {
   "cell_type": "code",
   "execution_count": 1,
   "metadata": {},
   "outputs": [
    {
     "name": "stdout",
     "output_type": "stream",
     "text": [
      "env: CUDA_DEVICE_ORDER=PCI_BUS_ID\n"
     ]
    }
   ],
   "source": [
    "%env CUDA_DEVICE_ORDER=PCI_BUS_ID"
   ]
  },
  {
   "cell_type": "code",
   "execution_count": 2,
   "metadata": {},
   "outputs": [],
   "source": [
    "%matplotlib inline\n",
    "import matplotlib.pyplot as plt\n",
    "\n",
    "from tqdm import tqdm_notebook as tqdm_notebook\n",
    "\n",
    "import numpy as np"
   ]
  },
  {
   "cell_type": "code",
   "execution_count": 3,
   "metadata": {},
   "outputs": [
    {
     "name": "stderr",
     "output_type": "stream",
     "text": [
      "Using TensorFlow backend.\n"
     ]
    }
   ],
   "source": [
    "### don't forget about others!\n",
    "\n",
    "import keras\n",
    "\n",
    "import tensorflow as tf\n",
    "gpu_options = tf.GPUOptions(allow_growth=True, per_process_gpu_memory_fraction=0.2)\n",
    "tf_session = tf.InteractiveSession(config=tf.ConfigProto(gpu_options=gpu_options))\n",
    "\n",
    "keras.backend.tensorflow_backend.set_session(tf_session)"
   ]
  },
  {
   "cell_type": "markdown",
   "metadata": {},
   "source": [
    "## Generators\n",
    "\n",
    "Pythia-mill is a python binding to Pythia generator that can run in multiple threads (processes).\n",
    "For more details, please, visit https://github.com/maxim-borisyak/pythia-mill"
   ]
  },
  {
   "cell_type": "code",
   "execution_count": 4,
   "metadata": {},
   "outputs": [],
   "source": [
    "import pythiamill as pm\n",
    "\n",
    "SEED=123"
   ]
  },
  {
   "cell_type": "markdown",
   "metadata": {},
   "source": [
    "### Note about the change of problem\n",
    "\n",
    "The reason the detector parameters (instead of Pythia parameters) are the target for the tune is a purely technical one: on each step AVO requires samples from multiples configurations of generator + detector. However, Pythia requires about half of a second to be reconfigured, which induces a tremendous overhead.\n",
    "\n",
    "By contrast, this simplistic detector is designed to accept its parameters as function arguments (effectively neglecting any overhead).\n",
    "\n",
    "\n",
    "The detector emulates a $32 \\times 32$ spherical uniform grid in `pseudorapidity` ($\\eta$)-`angle in traverse plane` ($\\phi$) covering $(\\eta, \\phi) \\in [0, 5] \\times [0, 2 \\pi]$.\n",
    "\n",
    "The detector is parametrized by offset in $z$-axis relative to the beam crossing point. Zero offset means that center of the sphere coincides with the collision point."
   ]
  },
  {
   "cell_type": "code",
   "execution_count": 5,
   "metadata": {},
   "outputs": [],
   "source": [
    "### ground truth offset, unknown in the real world problems.\n",
    "TRUE_OFFSET=1"
   ]
  },
  {
   "cell_type": "code",
   "execution_count": 6,
   "metadata": {},
   "outputs": [],
   "source": [
    "options = [\n",
    "    ### telling pythia to be quiet.\n",
    "    'Print:quiet = on',\n",
    "    'Init:showProcesses = off',\n",
    "    'Init:showMultipartonInteractions = off',\n",
    "    'Init:showChangedSettings = off',\n",
    "    'Init:showChangedParticleData = off',\n",
    "    'Next:numberCount=0',\n",
    "    'Next:numberShowInfo=0',\n",
    "    'Next:numberShowEvent=0',\n",
    "    'Stat:showProcessLevel=off',\n",
    "    'Stat:showErrors=off',\n",
    "    \n",
    "    ### seeting default parameters to Monash values\n",
    "    ### all options are taken from https://arxiv.org/abs/1610.08328\n",
    "    \"Tune:ee = 7\",\n",
    "    \"Beams:idA = 11\",\n",
    "    \"Beams:idB = -11\",\n",
    "    \"Beams:eCM = 91.2\",\n",
    "    \"WeakSingleBoson:ffbar2gmZ = on\",\n",
    "    \"23:onMode = off\",\n",
    "    \"23:onIfMatch = 1 -1\",\n",
    "    \"23:onIfMatch = 2 -2\",\n",
    "    \"23:onIfMatch = 3 -3\",\n",
    "    \"23:onIfMatch = 4 -4\",\n",
    "    \"23:onIfMatch = 5 -5\",\n",
    "]"
   ]
  },
  {
   "cell_type": "code",
   "execution_count": 7,
   "metadata": {},
   "outputs": [],
   "source": [
    "### defining the detector\n",
    "detector = pm.utils.SphericalTracker(\n",
    "    ### with this option detector measures total energy\n",
    "    ### of the particles traversing each pixel.\n",
    "    is_binary=False,\n",
    "    \n",
    "    ### detector covers [0, 5] pseudo-rapidity range\n",
    "    max_pseudorapidity=5.0,\n",
    "    pseudorapidity_steps=32, phi_steps=32,\n",
    "    ### 1 layer with radius 10 mm.\n",
    "    n_layers=1, R_min=10.0, R_max=10.0,\n",
    ")\n",
    "    \n",
    "mill = pm.ParametrizedPythiaMill(\n",
    "    detector, options,\n",
    "    ### please, don't use number of workers higher than 4.\n",
    "    batch_size=8, n_workers=4,\n",
    "    seed=SEED\n",
    ")"
   ]
  },
  {
   "cell_type": "code",
   "execution_count": 8,
   "metadata": {},
   "outputs": [],
   "source": [
    "def get_data(mill, detector_configurations, show_progress=False):\n",
    "    \"\"\"\n",
    "    Utilitary function to obtain data for a particular set of configurations.\n",
    "    \n",
    "    :param mill: instance of Pythia Mill to sample from.\n",
    "    : param detector configuration: - list of configurations.\n",
    "        each configuration should be an array of detector parameters.\n",
    "    : param show_progress: if True shows progress via `tqdm` package. \n",
    "    \n",
    "    :return:\n",
    "        - parameters: array of shape `<number of samples> x <parameters dim>`, parameters for each sample;\n",
    "        - samples: array of shape `<number of samples> x 1 x 32 x 32`, sampled events.\n",
    "    \"\"\"\n",
    "    try:\n",
    "        ### sending requests to the queue\n",
    "        for args in detector_configurations:\n",
    "            mill.request(*args)\n",
    "\n",
    "        ### retrieving results\n",
    "        data = [\n",
    "            mill.retrieve()\n",
    "            for _ in (\n",
    "                (lambda x: tqdm_notebook(x, postfix='data gen', leave=False))\n",
    "                if show_progress else\n",
    "                (lambda x: x)\n",
    "            )(range(len(detector_configurations)))\n",
    "        ]\n",
    "\n",
    "        samples = np.vstack([ samples for params, samples in data ])\n",
    "        params = np.vstack([ np.array([params] * samples.shape[0], dtype='float32') for params, samples in data ])\n",
    "\n",
    "        return params, samples.reshape(-1, 32, 32, 1)\n",
    "    finally:\n",
    "        while mill.n_requests > 0:\n",
    "            mill.retrieve()"
   ]
  },
  {
   "cell_type": "code",
   "execution_count": 9,
   "metadata": {},
   "outputs": [
    {
     "data": {
      "application/vnd.jupyter.widget-view+json": {
       "model_id": "",
       "version_major": 2,
       "version_minor": 0
      },
      "text/plain": [
       "HBox(children=(IntProgress(value=0, max=4096), HTML(value='')))"
      ]
     },
     "metadata": {},
     "output_type": "display_data"
    },
    {
     "name": "stdout",
     "output_type": "stream",
     "text": [
      "\r"
     ]
    },
    {
     "data": {
      "application/vnd.jupyter.widget-view+json": {
       "model_id": "",
       "version_major": 2,
       "version_minor": 0
      },
      "text/plain": [
       "HBox(children=(IntProgress(value=0, max=4096), HTML(value='')))"
      ]
     },
     "metadata": {},
     "output_type": "display_data"
    },
    {
     "name": "stdout",
     "output_type": "stream",
     "text": [
      "\r"
     ]
    }
   ],
   "source": [
    "### Generating training samples with ground truth parameters.\n",
    "### For a real-world problem these arrays would correspond to real data.\n",
    "_, X_true_train = get_data(mill, detector_configurations=[(TRUE_OFFSET, )] * 2 ** 12, show_progress=True)\n",
    "_, X_true_val = get_data(mill, detector_configurations=[(TRUE_OFFSET, )] * 2 ** 12, show_progress=True)"
   ]
  },
  {
   "cell_type": "code",
   "execution_count": 10,
   "metadata": {},
   "outputs": [
    {
     "name": "stdout",
     "output_type": "stream",
     "text": [
      "(32768, 32, 32, 1)\n",
      "(32768, 32, 32, 1)\n"
     ]
    }
   ],
   "source": [
    "print(X_true_train.shape)\n",
    "print(X_true_val.shape)"
   ]
  },
  {
   "cell_type": "markdown",
   "metadata": {},
   "source": [
    "### Taking a look at events"
   ]
  },
  {
   "cell_type": "code",
   "execution_count": 11,
   "metadata": {},
   "outputs": [
    {
     "data": {
      "image/png": "[encoded data removed]",
      "text/plain": [
       "<matplotlib.figure.Figure at 0x7fc709fcf2b0>"
      ]
     },
     "metadata": {},
     "output_type": "display_data"
    }
   ],
   "source": [
    "n = 5\n",
    "plt.subplots(nrows=n, ncols=n, figsize=(3 * n, 3 * n))\n",
    "\n",
    "max_energy = np.max(X_true_train[:n * n])\n",
    "\n",
    "for i in range(n):\n",
    "    for j in range(n):\n",
    "        k = i * n + j\n",
    "        plt.subplot(n, n, k + 1)\n",
    "        plt.imshow(X_true_train[k, :, :, 0], vmin=0, vmax=max_energy)\n",
    "\n",
    "plt.show()"
   ]
  },
  {
   "cell_type": "markdown",
   "metadata": {},
   "source": [
    "### Aggregated events"
   ]
  },
  {
   "cell_type": "code",
   "execution_count": 12,
   "metadata": {},
   "outputs": [
    {
     "data": {
      "image/png": "[encoded data removed]",
      "text/plain": [
       "<matplotlib.figure.Figure at 0x7fc620e73240>"
      ]
     },
     "metadata": {},
     "output_type": "display_data"
    }
   ],
   "source": [
    "plt.figure(figsize=(6, 6))\n",
    "plt.imshow(np.sum(X_true_train, axis=(0, 3)), vmin=0)\n",
    "plt.show()"
   ]
  },
  {
   "cell_type": "markdown",
   "metadata": {},
   "source": [
    "## Discriminator"
   ]
  },
  {
   "cell_type": "code",
   "execution_count": 13,
   "metadata": {},
   "outputs": [],
   "source": [
    "from keras.models import Model\n",
    "from keras.layers import Input, Conv2D, MaxPool2D, Dense, Flatten, GlobalMaxPool2D\n",
    "from keras.activations import softplus, sigmoid, relu\n",
    "\n",
    "from keras.utils.vis_utils import model_to_dot"
   ]
  },
  {
   "cell_type": "markdown",
   "metadata": {},
   "source": [
    "### Building conv net"
   ]
  },
  {
   "cell_type": "code",
   "execution_count": 14,
   "metadata": {},
   "outputs": [],
   "source": [
    "inputs = Input(shape=(32, 32, 1))\n",
    "\n",
    "activation = lambda x: relu(x, 0.05)\n",
    "\n",
    "net = Conv2D(8, kernel_size=(3, 3), padding='same', activation=activation)(inputs)\n",
    "net = MaxPool2D(pool_size=(2, 2))(net)\n",
    "\n",
    "net = Conv2D(12, kernel_size=(3, 3), padding='same', activation=activation)(net)\n",
    "net = MaxPool2D(pool_size=(2, 2))(net)\n",
    "# net = GlobalMaxPool2D()(net)\n",
    "\n",
    "\n",
    "net = Conv2D(16, kernel_size=(3, 3), padding='same', activation=activation)(net)\n",
    "net = MaxPool2D(pool_size=(2, 2))(net)\n",
    "\n",
    "net = Conv2D(24, kernel_size=(3, 3), padding='same', activation=activation)(net)\n",
    "net = MaxPool2D(pool_size=(2, 2))(net)\n",
    "\n",
    "net = Flatten()(net)\n",
    "predictions = Dense(1, activation=sigmoid)(net)\n",
    "\n",
    "discriminator = Model(inputs=inputs, outputs=predictions)\n",
    "\n",
    "discriminator.compile(optimizer='adam', loss='binary_crossentropy')"
   ]
  },
  {
   "cell_type": "code",
   "execution_count": 15,
   "metadata": {},
   "outputs": [
    {
     "data": {
      "image/svg+xml": [
       "<svg height=\"885pt\" viewBox=\"0.00 0.00 476.00 885.00\" width=\"476pt\" xmlns=\"http://www.w3.org/2000/svg\" xmlns:xlink=\"http://www.w3.org/1999/xlink\">\n",
       "<g class=\"graph\" id=\"graph0\" transform=\"scale(1 1) rotate(0) translate(4 881)\">\n",
       "<title>G</title>\n",
       "<polygon fill=\"white\" points=\"-4,4 -4,-881 472,-881 472,4 -4,4\" stroke=\"none\"/>\n",
       "<!-- 140488932032976 -->\n",
       "<g class=\"node\" id=\"node1\"><title>140488932032976</title>\n",
       "<polygon fill=\"none\" points=\"51.5,-830.5 51.5,-876.5 416.5,-876.5 416.5,-830.5 51.5,-830.5\" stroke=\"black\"/>\n",
       "<text font-family=\"Times,serif\" font-size=\"14.00\" text-anchor=\"middle\" x=\"131.5\" y=\"-849.8\">input_1: InputLayer</text>\n",
       "<polyline fill=\"none\" points=\"211.5,-830.5 211.5,-876.5 \" stroke=\"black\"/>\n",
       "<text font-family=\"Times,serif\" font-size=\"14.00\" text-anchor=\"middle\" x=\"245.5\" y=\"-861.3\">input:</text>\n",
       "<polyline fill=\"none\" points=\"211.5,-853.5 279.5,-853.5 \" stroke=\"black\"/>\n",
       "<text font-family=\"Times,serif\" font-size=\"14.00\" text-anchor=\"middle\" x=\"245.5\" y=\"-838.3\">output:</text>\n",
       "<polyline fill=\"none\" points=\"279.5,-830.5 279.5,-876.5 \" stroke=\"black\"/>\n",
       "<text font-family=\"Times,serif\" font-size=\"14.00\" text-anchor=\"middle\" x=\"348\" y=\"-861.3\">(None, 32, 32, 1)</text>\n",
       "<polyline fill=\"none\" points=\"279.5,-853.5 416.5,-853.5 \" stroke=\"black\"/>\n",
       "<text font-family=\"Times,serif\" font-size=\"14.00\" text-anchor=\"middle\" x=\"348\" y=\"-838.3\">(None, 32, 32, 1)</text>\n",
       "</g>\n",
       "<!-- 140492836798704 -->\n",
       "<g class=\"node\" id=\"node2\"><title>140492836798704</title>\n",
       "<polygon fill=\"none\" points=\"56,-747.5 56,-793.5 412,-793.5 412,-747.5 56,-747.5\" stroke=\"black\"/>\n",
       "<text font-family=\"Times,serif\" font-size=\"14.00\" text-anchor=\"middle\" x=\"131.5\" y=\"-766.8\">conv2d_1: Conv2D</text>\n",
       "<polyline fill=\"none\" points=\"207,-747.5 207,-793.5 \" stroke=\"black\"/>\n",
       "<text font-family=\"Times,serif\" font-size=\"14.00\" text-anchor=\"middle\" x=\"241\" y=\"-778.3\">input:</text>\n",
       "<polyline fill=\"none\" points=\"207,-770.5 275,-770.5 \" stroke=\"black\"/>\n",
       "<text font-family=\"Times,serif\" font-size=\"14.00\" text-anchor=\"middle\" x=\"241\" y=\"-755.3\">output:</text>\n",
       "<polyline fill=\"none\" points=\"275,-747.5 275,-793.5 \" stroke=\"black\"/>\n",
       "<text font-family=\"Times,serif\" font-size=\"14.00\" text-anchor=\"middle\" x=\"343.5\" y=\"-778.3\">(None, 32, 32, 1)</text>\n",
       "<polyline fill=\"none\" points=\"275,-770.5 412,-770.5 \" stroke=\"black\"/>\n",
       "<text font-family=\"Times,serif\" font-size=\"14.00\" text-anchor=\"middle\" x=\"343.5\" y=\"-755.3\">(None, 32, 32, 8)</text>\n",
       "</g>\n",
       "<!-- 140488932032976&#45;&gt;140492836798704 -->\n",
       "<g class=\"edge\" id=\"edge1\"><title>140488932032976-&gt;140492836798704</title>\n",
       "<path d=\"M234,-830.366C234,-822.152 234,-812.658 234,-803.725\" fill=\"none\" stroke=\"black\"/>\n",
       "<polygon fill=\"black\" points=\"237.5,-803.607 234,-793.607 230.5,-803.607 237.5,-803.607\" stroke=\"black\"/>\n",
       "</g>\n",
       "<!-- 140492835523832 -->\n",
       "<g class=\"node\" id=\"node3\"><title>140492835523832</title>\n",
       "<polygon fill=\"none\" points=\"4.5,-664.5 4.5,-710.5 463.5,-710.5 463.5,-664.5 4.5,-664.5\" stroke=\"black\"/>\n",
       "<text font-family=\"Times,serif\" font-size=\"14.00\" text-anchor=\"middle\" x=\"131.5\" y=\"-683.8\">max_pooling2d_1: MaxPooling2D</text>\n",
       "<polyline fill=\"none\" points=\"258.5,-664.5 258.5,-710.5 \" stroke=\"black\"/>\n",
       "<text font-family=\"Times,serif\" font-size=\"14.00\" text-anchor=\"middle\" x=\"292.5\" y=\"-695.3\">input:</text>\n",
       "<polyline fill=\"none\" points=\"258.5,-687.5 326.5,-687.5 \" stroke=\"black\"/>\n",
       "<text font-family=\"Times,serif\" font-size=\"14.00\" text-anchor=\"middle\" x=\"292.5\" y=\"-672.3\">output:</text>\n",
       "<polyline fill=\"none\" points=\"326.5,-664.5 326.5,-710.5 \" stroke=\"black\"/>\n",
       "<text font-family=\"Times,serif\" font-size=\"14.00\" text-anchor=\"middle\" x=\"395\" y=\"-695.3\">(None, 32, 32, 8)</text>\n",
       "<polyline fill=\"none\" points=\"326.5,-687.5 463.5,-687.5 \" stroke=\"black\"/>\n",
       "<text font-family=\"Times,serif\" font-size=\"14.00\" text-anchor=\"middle\" x=\"395\" y=\"-672.3\">(None, 16, 16, 8)</text>\n",
       "</g>\n",
       "<!-- 140492836798704&#45;&gt;140492835523832 -->\n",
       "<g class=\"edge\" id=\"edge2\"><title>140492836798704-&gt;140492835523832</title>\n",
       "<path d=\"M234,-747.366C234,-739.152 234,-729.658 234,-720.725\" fill=\"none\" stroke=\"black\"/>\n",
       "<polygon fill=\"black\" points=\"237.5,-720.607 234,-710.607 230.5,-720.607 237.5,-720.607\" stroke=\"black\"/>\n",
       "</g>\n",
       "<!-- 140492836956256 -->\n",
       "<g class=\"node\" id=\"node4\"><title>140492836956256</title>\n",
       "<polygon fill=\"none\" points=\"51.5,-581.5 51.5,-627.5 416.5,-627.5 416.5,-581.5 51.5,-581.5\" stroke=\"black\"/>\n",
       "<text font-family=\"Times,serif\" font-size=\"14.00\" text-anchor=\"middle\" x=\"127\" y=\"-600.8\">conv2d_2: Conv2D</text>\n",
       "<polyline fill=\"none\" points=\"202.5,-581.5 202.5,-627.5 \" stroke=\"black\"/>\n",
       "<text font-family=\"Times,serif\" font-size=\"14.00\" text-anchor=\"middle\" x=\"236.5\" y=\"-612.3\">input:</text>\n",
       "<polyline fill=\"none\" points=\"202.5,-604.5 270.5,-604.5 \" stroke=\"black\"/>\n",
       "<text font-family=\"Times,serif\" font-size=\"14.00\" text-anchor=\"middle\" x=\"236.5\" y=\"-589.3\">output:</text>\n",
       "<polyline fill=\"none\" points=\"270.5,-581.5 270.5,-627.5 \" stroke=\"black\"/>\n",
       "<text font-family=\"Times,serif\" font-size=\"14.00\" text-anchor=\"middle\" x=\"343.5\" y=\"-612.3\">(None, 16, 16, 8)</text>\n",
       "<polyline fill=\"none\" points=\"270.5,-604.5 416.5,-604.5 \" stroke=\"black\"/>\n",
       "<text font-family=\"Times,serif\" font-size=\"14.00\" text-anchor=\"middle\" x=\"343.5\" y=\"-589.3\">(None, 16, 16, 12)</text>\n",
       "</g>\n",
       "<!-- 140492835523832&#45;&gt;140492836956256 -->\n",
       "<g class=\"edge\" id=\"edge3\"><title>140492835523832-&gt;140492836956256</title>\n",
       "<path d=\"M234,-664.366C234,-656.152 234,-646.658 234,-637.725\" fill=\"none\" stroke=\"black\"/>\n",
       "<polygon fill=\"black\" points=\"237.5,-637.607 234,-627.607 230.5,-637.607 237.5,-637.607\" stroke=\"black\"/>\n",
       "</g>\n",
       "<!-- 140492836022592 -->\n",
       "<g class=\"node\" id=\"node5\"><title>140492836022592</title>\n",
       "<polygon fill=\"none\" points=\"0,-498.5 0,-544.5 468,-544.5 468,-498.5 0,-498.5\" stroke=\"black\"/>\n",
       "<text font-family=\"Times,serif\" font-size=\"14.00\" text-anchor=\"middle\" x=\"127\" y=\"-517.8\">max_pooling2d_2: MaxPooling2D</text>\n",
       "<polyline fill=\"none\" points=\"254,-498.5 254,-544.5 \" stroke=\"black\"/>\n",
       "<text font-family=\"Times,serif\" font-size=\"14.00\" text-anchor=\"middle\" x=\"288\" y=\"-529.3\">input:</text>\n",
       "<polyline fill=\"none\" points=\"254,-521.5 322,-521.5 \" stroke=\"black\"/>\n",
       "<text font-family=\"Times,serif\" font-size=\"14.00\" text-anchor=\"middle\" x=\"288\" y=\"-506.3\">output:</text>\n",
       "<polyline fill=\"none\" points=\"322,-498.5 322,-544.5 \" stroke=\"black\"/>\n",
       "<text font-family=\"Times,serif\" font-size=\"14.00\" text-anchor=\"middle\" x=\"395\" y=\"-529.3\">(None, 16, 16, 12)</text>\n",
       "<polyline fill=\"none\" points=\"322,-521.5 468,-521.5 \" stroke=\"black\"/>\n",
       "<text font-family=\"Times,serif\" font-size=\"14.00\" text-anchor=\"middle\" x=\"395\" y=\"-506.3\">(None, 8, 8, 12)</text>\n",
       "</g>\n",
       "<!-- 140492836956256&#45;&gt;140492836022592 -->\n",
       "<g class=\"edge\" id=\"edge4\"><title>140492836956256-&gt;140492836022592</title>\n",
       "<path d=\"M234,-581.366C234,-573.152 234,-563.658 234,-554.725\" fill=\"none\" stroke=\"black\"/>\n",
       "<polygon fill=\"black\" points=\"237.5,-554.607 234,-544.607 230.5,-554.607 237.5,-554.607\" stroke=\"black\"/>\n",
       "</g>\n",
       "<!-- 140492835484616 -->\n",
       "<g class=\"node\" id=\"node6\"><title>140492835484616</title>\n",
       "<polygon fill=\"none\" points=\"60.5,-415.5 60.5,-461.5 407.5,-461.5 407.5,-415.5 60.5,-415.5\" stroke=\"black\"/>\n",
       "<text font-family=\"Times,serif\" font-size=\"14.00\" text-anchor=\"middle\" x=\"136\" y=\"-434.8\">conv2d_3: Conv2D</text>\n",
       "<polyline fill=\"none\" points=\"211.5,-415.5 211.5,-461.5 \" stroke=\"black\"/>\n",
       "<text font-family=\"Times,serif\" font-size=\"14.00\" text-anchor=\"middle\" x=\"245.5\" y=\"-446.3\">input:</text>\n",
       "<polyline fill=\"none\" points=\"211.5,-438.5 279.5,-438.5 \" stroke=\"black\"/>\n",
       "<text font-family=\"Times,serif\" font-size=\"14.00\" text-anchor=\"middle\" x=\"245.5\" y=\"-423.3\">output:</text>\n",
       "<polyline fill=\"none\" points=\"279.5,-415.5 279.5,-461.5 \" stroke=\"black\"/>\n",
       "<text font-family=\"Times,serif\" font-size=\"14.00\" text-anchor=\"middle\" x=\"343.5\" y=\"-446.3\">(None, 8, 8, 12)</text>\n",
       "<polyline fill=\"none\" points=\"279.5,-438.5 407.5,-438.5 \" stroke=\"black\"/>\n",
       "<text font-family=\"Times,serif\" font-size=\"14.00\" text-anchor=\"middle\" x=\"343.5\" y=\"-423.3\">(None, 8, 8, 16)</text>\n",
       "</g>\n",
       "<!-- 140492836022592&#45;&gt;140492835484616 -->\n",
       "<g class=\"edge\" id=\"edge5\"><title>140492836022592-&gt;140492835484616</title>\n",
       "<path d=\"M234,-498.366C234,-490.152 234,-480.658 234,-471.725\" fill=\"none\" stroke=\"black\"/>\n",
       "<polygon fill=\"black\" points=\"237.5,-471.607 234,-461.607 230.5,-471.607 237.5,-471.607\" stroke=\"black\"/>\n",
       "</g>\n",
       "<!-- 140492835446064 -->\n",
       "<g class=\"node\" id=\"node7\"><title>140492835446064</title>\n",
       "<polygon fill=\"none\" points=\"9,-332.5 9,-378.5 459,-378.5 459,-332.5 9,-332.5\" stroke=\"black\"/>\n",
       "<text font-family=\"Times,serif\" font-size=\"14.00\" text-anchor=\"middle\" x=\"136\" y=\"-351.8\">max_pooling2d_3: MaxPooling2D</text>\n",
       "<polyline fill=\"none\" points=\"263,-332.5 263,-378.5 \" stroke=\"black\"/>\n",
       "<text font-family=\"Times,serif\" font-size=\"14.00\" text-anchor=\"middle\" x=\"297\" y=\"-363.3\">input:</text>\n",
       "<polyline fill=\"none\" points=\"263,-355.5 331,-355.5 \" stroke=\"black\"/>\n",
       "<text font-family=\"Times,serif\" font-size=\"14.00\" text-anchor=\"middle\" x=\"297\" y=\"-340.3\">output:</text>\n",
       "<polyline fill=\"none\" points=\"331,-332.5 331,-378.5 \" stroke=\"black\"/>\n",
       "<text font-family=\"Times,serif\" font-size=\"14.00\" text-anchor=\"middle\" x=\"395\" y=\"-363.3\">(None, 8, 8, 16)</text>\n",
       "<polyline fill=\"none\" points=\"331,-355.5 459,-355.5 \" stroke=\"black\"/>\n",
       "<text font-family=\"Times,serif\" font-size=\"14.00\" text-anchor=\"middle\" x=\"395\" y=\"-340.3\">(None, 4, 4, 16)</text>\n",
       "</g>\n",
       "<!-- 140492835484616&#45;&gt;140492835446064 -->\n",
       "<g class=\"edge\" id=\"edge6\"><title>140492835484616-&gt;140492835446064</title>\n",
       "<path d=\"M234,-415.366C234,-407.152 234,-397.658 234,-388.725\" fill=\"none\" stroke=\"black\"/>\n",
       "<polygon fill=\"black\" points=\"237.5,-388.607 234,-378.607 230.5,-388.607 237.5,-388.607\" stroke=\"black\"/>\n",
       "</g>\n",
       "<!-- 140492834305696 -->\n",
       "<g class=\"node\" id=\"node8\"><title>140492834305696</title>\n",
       "<polygon fill=\"none\" points=\"60.5,-249.5 60.5,-295.5 407.5,-295.5 407.5,-249.5 60.5,-249.5\" stroke=\"black\"/>\n",
       "<text font-family=\"Times,serif\" font-size=\"14.00\" text-anchor=\"middle\" x=\"136\" y=\"-268.8\">conv2d_4: Conv2D</text>\n",
       "<polyline fill=\"none\" points=\"211.5,-249.5 211.5,-295.5 \" stroke=\"black\"/>\n",
       "<text font-family=\"Times,serif\" font-size=\"14.00\" text-anchor=\"middle\" x=\"245.5\" y=\"-280.3\">input:</text>\n",
       "<polyline fill=\"none\" points=\"211.5,-272.5 279.5,-272.5 \" stroke=\"black\"/>\n",
       "<text font-family=\"Times,serif\" font-size=\"14.00\" text-anchor=\"middle\" x=\"245.5\" y=\"-257.3\">output:</text>\n",
       "<polyline fill=\"none\" points=\"279.5,-249.5 279.5,-295.5 \" stroke=\"black\"/>\n",
       "<text font-family=\"Times,serif\" font-size=\"14.00\" text-anchor=\"middle\" x=\"343.5\" y=\"-280.3\">(None, 4, 4, 16)</text>\n",
       "<polyline fill=\"none\" points=\"279.5,-272.5 407.5,-272.5 \" stroke=\"black\"/>\n",
       "<text font-family=\"Times,serif\" font-size=\"14.00\" text-anchor=\"middle\" x=\"343.5\" y=\"-257.3\">(None, 4, 4, 24)</text>\n",
       "</g>\n",
       "<!-- 140492835446064&#45;&gt;140492834305696 -->\n",
       "<g class=\"edge\" id=\"edge7\"><title>140492835446064-&gt;140492834305696</title>\n",
       "<path d=\"M234,-332.366C234,-324.152 234,-314.658 234,-305.725\" fill=\"none\" stroke=\"black\"/>\n",
       "<polygon fill=\"black\" points=\"237.5,-305.607 234,-295.607 230.5,-305.607 237.5,-305.607\" stroke=\"black\"/>\n",
       "</g>\n",
       "<!-- 140492834304240 -->\n",
       "<g class=\"node\" id=\"node9\"><title>140492834304240</title>\n",
       "<polygon fill=\"none\" points=\"9,-166.5 9,-212.5 459,-212.5 459,-166.5 9,-166.5\" stroke=\"black\"/>\n",
       "<text font-family=\"Times,serif\" font-size=\"14.00\" text-anchor=\"middle\" x=\"136\" y=\"-185.8\">max_pooling2d_4: MaxPooling2D</text>\n",
       "<polyline fill=\"none\" points=\"263,-166.5 263,-212.5 \" stroke=\"black\"/>\n",
       "<text font-family=\"Times,serif\" font-size=\"14.00\" text-anchor=\"middle\" x=\"297\" y=\"-197.3\">input:</text>\n",
       "<polyline fill=\"none\" points=\"263,-189.5 331,-189.5 \" stroke=\"black\"/>\n",
       "<text font-family=\"Times,serif\" font-size=\"14.00\" text-anchor=\"middle\" x=\"297\" y=\"-174.3\">output:</text>\n",
       "<polyline fill=\"none\" points=\"331,-166.5 331,-212.5 \" stroke=\"black\"/>\n",
       "<text font-family=\"Times,serif\" font-size=\"14.00\" text-anchor=\"middle\" x=\"395\" y=\"-197.3\">(None, 4, 4, 24)</text>\n",
       "<polyline fill=\"none\" points=\"331,-189.5 459,-189.5 \" stroke=\"black\"/>\n",
       "<text font-family=\"Times,serif\" font-size=\"14.00\" text-anchor=\"middle\" x=\"395\" y=\"-174.3\">(None, 2, 2, 24)</text>\n",
       "</g>\n",
       "<!-- 140492834305696&#45;&gt;140492834304240 -->\n",
       "<g class=\"edge\" id=\"edge8\"><title>140492834305696-&gt;140492834304240</title>\n",
       "<path d=\"M234,-249.366C234,-241.152 234,-231.658 234,-222.725\" fill=\"none\" stroke=\"black\"/>\n",
       "<polygon fill=\"black\" points=\"237.5,-222.607 234,-212.607 230.5,-222.607 237.5,-222.607\" stroke=\"black\"/>\n",
       "</g>\n",
       "<!-- 140492834860000 -->\n",
       "<g class=\"node\" id=\"node10\"><title>140492834860000</title>\n",
       "<polygon fill=\"none\" points=\"66,-83.5 66,-129.5 402,-129.5 402,-83.5 66,-83.5\" stroke=\"black\"/>\n",
       "<text font-family=\"Times,serif\" font-size=\"14.00\" text-anchor=\"middle\" x=\"136\" y=\"-102.8\">flatten_1: Flatten</text>\n",
       "<polyline fill=\"none\" points=\"206,-83.5 206,-129.5 \" stroke=\"black\"/>\n",
       "<text font-family=\"Times,serif\" font-size=\"14.00\" text-anchor=\"middle\" x=\"240\" y=\"-114.3\">input:</text>\n",
       "<polyline fill=\"none\" points=\"206,-106.5 274,-106.5 \" stroke=\"black\"/>\n",
       "<text font-family=\"Times,serif\" font-size=\"14.00\" text-anchor=\"middle\" x=\"240\" y=\"-91.3\">output:</text>\n",
       "<polyline fill=\"none\" points=\"274,-83.5 274,-129.5 \" stroke=\"black\"/>\n",
       "<text font-family=\"Times,serif\" font-size=\"14.00\" text-anchor=\"middle\" x=\"338\" y=\"-114.3\">(None, 2, 2, 24)</text>\n",
       "<polyline fill=\"none\" points=\"274,-106.5 402,-106.5 \" stroke=\"black\"/>\n",
       "<text font-family=\"Times,serif\" font-size=\"14.00\" text-anchor=\"middle\" x=\"338\" y=\"-91.3\">(None, 96)</text>\n",
       "</g>\n",
       "<!-- 140492834304240&#45;&gt;140492834860000 -->\n",
       "<g class=\"edge\" id=\"edge9\"><title>140492834304240-&gt;140492834860000</title>\n",
       "<path d=\"M234,-166.366C234,-158.152 234,-148.658 234,-139.725\" fill=\"none\" stroke=\"black\"/>\n",
       "<polygon fill=\"black\" points=\"237.5,-139.607 234,-129.607 230.5,-139.607 237.5,-139.607\" stroke=\"black\"/>\n",
       "</g>\n",
       "<!-- 140492834706264 -->\n",
       "<g class=\"node\" id=\"node11\"><title>140492834706264</title>\n",
       "<polygon fill=\"none\" points=\"90,-0.5 90,-46.5 378,-46.5 378,-0.5 90,-0.5\" stroke=\"black\"/>\n",
       "<text font-family=\"Times,serif\" font-size=\"14.00\" text-anchor=\"middle\" x=\"154\" y=\"-19.8\">dense_1: Dense</text>\n",
       "<polyline fill=\"none\" points=\"218,-0.5 218,-46.5 \" stroke=\"black\"/>\n",
       "<text font-family=\"Times,serif\" font-size=\"14.00\" text-anchor=\"middle\" x=\"252\" y=\"-31.3\">input:</text>\n",
       "<polyline fill=\"none\" points=\"218,-23.5 286,-23.5 \" stroke=\"black\"/>\n",
       "<text font-family=\"Times,serif\" font-size=\"14.00\" text-anchor=\"middle\" x=\"252\" y=\"-8.3\">output:</text>\n",
       "<polyline fill=\"none\" points=\"286,-0.5 286,-46.5 \" stroke=\"black\"/>\n",
       "<text font-family=\"Times,serif\" font-size=\"14.00\" text-anchor=\"middle\" x=\"332\" y=\"-31.3\">(None, 96)</text>\n",
       "<polyline fill=\"none\" points=\"286,-23.5 378,-23.5 \" stroke=\"black\"/>\n",
       "<text font-family=\"Times,serif\" font-size=\"14.00\" text-anchor=\"middle\" x=\"332\" y=\"-8.3\">(None, 1)</text>\n",
       "</g>\n",
       "<!-- 140492834860000&#45;&gt;140492834706264 -->\n",
       "<g class=\"edge\" id=\"edge10\"><title>140492834860000-&gt;140492834706264</title>\n",
       "<path d=\"M234,-83.3664C234,-75.1516 234,-65.6579 234,-56.7252\" fill=\"none\" stroke=\"black\"/>\n",
       "<polygon fill=\"black\" points=\"237.5,-56.6068 234,-46.6068 230.5,-56.6069 237.5,-56.6068\" stroke=\"black\"/>\n",
       "</g>\n",
       "</g>\n",
       "</svg>"
      ],
      "text/plain": [
       "<IPython.core.display.SVG object>"
      ]
     },
     "execution_count": 15,
     "metadata": {},
     "output_type": "execute_result"
    }
   ],
   "source": [
    "from IPython import display\n",
    "from IPython.display import SVG\n",
    "\n",
    "SVG(model_to_dot(discriminator, show_shapes=True).create(prog='dot', format='svg'))"
   ]
  },
  {
   "cell_type": "markdown",
   "metadata": {},
   "source": [
    "In Adversarial Variational Optimization, instead of searching for a single value of detector parameters, a parametrized distribution is introduced (with parameters $\\psi$):\n",
    "\n",
    "$$\\mathcal{L}(\\psi) = \\mathrm{JS}(X_\\psi, X_\\mathrm{data})$$\n",
    "where:\n",
    "- $X_\\psi \\sim \\mathrm{detector}(\\theta), \\theta \\sim P_\\psi$;\n",
    "- $X_\\mathrm{data} \\sim \\mathrm{reality}$.\n",
    "\n",
    "Note that $\\mathcal{L}(\\psi)$ is a vaiational bound on adversarial loss:\n",
    "\n",
    "$$\\mathcal{L}(\\psi) \\geq \\min_\\theta \\mathcal{L}_\\mathrm{adv}(\\theta) = \\mathrm{JS}(X_\\theta, X_\\mathrm{data})$$\n",
    "\n",
    "In this example, detector parameters consist of a signle `offset` parameter. For simplicity normal distibution is used:\n",
    "\n",
    "$$\\mathrm{offset} \\sim \\mathcal{N}(\\mu, \\sigma)$$\n",
    "\n",
    "\n",
    "In order to avoid introducing constraints $\\sigma \\geq 0$, an auxiliary *free variable* $\\sigma'$ is introduced (denoted as `detector_params_sigma_raw` in the code):\n",
    "$$\\sigma = \\log(1 + \\exp(\\sigma'))$$\n",
    "\n",
    "Note that if there exists configuration of detector perfectly matching real data, then minimum of variational bound is achieved when the `offset` distribution collapses into delta function with the center at minumum of adversarial loss.\n",
    "Otherwise, a mixture of detector configuations might be a solution (unlike convetional variational optimization)."
   ]
  },
  {
   "cell_type": "code",
   "execution_count": 16,
   "metadata": {},
   "outputs": [],
   "source": [
    "X = tf.placeholder(dtype='float32', shape=(None, 32, 32, 1))\n",
    "\n",
    "proba = discriminator(X)[:, 0]\n",
    "\n",
    "detector_params = tf.placeholder(dtype='float32', shape=(None, 1))\n",
    "\n",
    "detector_params_mean = tf.Variable(\n",
    "    initial_value=np.array([0.0], dtype='float32'),\n",
    "    dtype='float32'\n",
    ")\n",
    "\n",
    "detector_params_sigma_raw = tf.Variable(\n",
    "    initial_value=np.array([2.0], dtype='float32'),\n",
    "    dtype='float32'\n",
    ")\n",
    "\n",
    "detector_params_sigma = tf.nn.softplus(detector_params_sigma_raw)\n",
    "\n",
    "neg_log_prob = tf.reduce_sum(\n",
    "    tf.log(detector_params_sigma)\n",
    ") + tf.reduce_sum(\n",
    "    0.5 * (detector_params - detector_params_mean[None, :]) ** 2 / detector_params_sigma[None, :] ** 2\n",
    "    , axis=1\n",
    ")\n",
    "\n",
    "detector_params_loss = tf.reduce_mean(neg_log_prob * proba)"
   ]
  },
  {
   "cell_type": "code",
   "execution_count": 17,
   "metadata": {},
   "outputs": [],
   "source": [
    "get_distribution_params = lambda : tf_session.run([detector_params_mean, detector_params_sigma])"
   ]
  },
  {
   "cell_type": "code",
   "execution_count": 18,
   "metadata": {},
   "outputs": [],
   "source": [
    "n = tf.placeholder(dtype='int64', shape=())\n",
    "params_sample = tf.random_normal(\n",
    "    mean=detector_params_mean,\n",
    "    stddev=detector_params_sigma,\n",
    "    shape=(n, 1),\n",
    "    dtype='float32'\n",
    ")"
   ]
  },
  {
   "cell_type": "code",
   "execution_count": 19,
   "metadata": {},
   "outputs": [],
   "source": [
    "distribution_opt = tf.train.AdamOptimizer(learning_rate=0.02).minimize(\n",
    "    detector_params_loss, var_list=[detector_params_mean, detector_params_sigma_raw]\n",
    ")"
   ]
  },
  {
   "cell_type": "code",
   "execution_count": 20,
   "metadata": {},
   "outputs": [],
   "source": [
    "tf_session.run(tf.global_variables_initializer())"
   ]
  },
  {
   "cell_type": "code",
   "execution_count": 21,
   "metadata": {},
   "outputs": [],
   "source": [
    "def train_discriminator(n_samples=2 ** 16, n_epoches=16, plot=False):\n",
    "    sample_of_detector_params = tf_session.run(params_sample, { n : n_samples // 8 })\n",
    "    \n",
    "    _, X_gen_train = get_data(\n",
    "        mill,\n",
    "        detector_configurations=sample_of_detector_params,\n",
    "        show_progress=True\n",
    "    )\n",
    "    \n",
    "    X_train = np.vstack([ X_gen_train, X_true_train ])\n",
    "    y_train = np.hstack([ np.zeros(X_gen_train.shape[0]), np.ones(X_true_train.shape[0]) ]).astype('float32')\n",
    "    \n",
    "    history = discriminator.fit(x=X_train, y=y_train, batch_size=32, epochs=n_epoches, verbose=0)\n",
    "    \n",
    "    if plot:\n",
    "        plt.figure(figsize=(8, 4))\n",
    "        plt.plot(history.history['loss'], label='train loss')\n",
    "        plt.legend()\n",
    "        plt.show()"
   ]
  },
  {
   "cell_type": "code",
   "execution_count": 22,
   "metadata": {},
   "outputs": [],
   "source": [
    "def train_generator():\n",
    "    sample_of_detector_params = tf_session.run(params_sample, { n : 2 ** 8 })\n",
    "    params_train, X_gen_train = get_data(mill, detector_configurations=sample_of_detector_params)\n",
    "    \n",
    "    tf_session.run(\n",
    "        distribution_opt,\n",
    "        feed_dict={\n",
    "            X : X_gen_train,\n",
    "            detector_params : params_train\n",
    "        }\n",
    "    )"
   ]
  },
  {
   "cell_type": "markdown",
   "metadata": {},
   "source": [
    "## Pretraining"
   ]
  },
  {
   "cell_type": "markdown",
   "metadata": {},
   "source": [
    "AVO makes small changes in parameter distribution. When starting with the optimal discriminator from the previous iterations, adjusting discriminator to these changes should require relatively few optimization steps.\n",
    "\n",
    "However, the initial discriminator state (which is just random weights), most probably, does not correspond to any optimal discriminator. Therefore, we pretrain discriminator in order to ensure that only a few epoches needed on each iteration to achieve an optimal discriminator."
   ]
  },
  {
   "cell_type": "code",
   "execution_count": 23,
   "metadata": {},
   "outputs": [
    {
     "data": {
      "application/vnd.jupyter.widget-view+json": {
       "model_id": "",
       "version_major": 2,
       "version_minor": 0
      },
      "text/plain": [
       "HBox(children=(IntProgress(value=0, max=8192), HTML(value='')))"
      ]
     },
     "metadata": {},
     "output_type": "display_data"
    },
    {
     "name": "stdout",
     "output_type": "stream",
     "text": [
      "\r"
     ]
    },
    {
     "data": {
      "image/png": "[encoded data removed]",
      "text/plain": [
       "<matplotlib.figure.Figure at 0x7fc7097f49b0>"
      ]
     },
     "metadata": {},
     "output_type": "display_data"
    },
    {
     "name": "stdout",
     "output_type": "stream",
     "text": [
      "CPU times: user 2min 13s, sys: 28.9 s, total: 2min 42s\n",
      "Wall time: 2min 1s\n"
     ]
    }
   ],
   "source": [
    "%%time\n",
    "\n",
    "train_discriminator(n_samples=2**16, n_epoches=4, plot=True)"
   ]
  },
  {
   "cell_type": "markdown",
   "metadata": {},
   "source": [
    "## Variational optimization"
   ]
  },
  {
   "cell_type": "code",
   "execution_count": 24,
   "metadata": {
    "scrolled": false
   },
   "outputs": [
    {
     "data": {
      "image/png": "[encoded data removed]",
      "text/plain": [
       "<matplotlib.figure.Figure at 0x7fc70986df98>"
      ]
     },
     "metadata": {},
     "output_type": "display_data"
    }
   ],
   "source": [
    "from IPython import display\n",
    "\n",
    "n_iterations = 256\n",
    "\n",
    "generator_mean_history = np.ndarray(shape=(n_iterations, ))\n",
    "generator_sigma_history = np.ndarray(shape=(n_iterations, ))\n",
    "\n",
    "for i in range(n_iterations):\n",
    "    train_discriminator(n_samples=2**12, n_epoches=1)\n",
    "    train_generator()\n",
    "    \n",
    "    m, s = get_distribution_params()\n",
    "    generator_mean_history[i] = np.float32(m[0])\n",
    "    generator_sigma_history[i] = np.float32(s[0])\n",
    "    \n",
    "    display.clear_output(wait=True)\n",
    "    \n",
    "    plt.figure(figsize=(18, 9))\n",
    "    plt.plot(generator_mean_history[:i + 1], color='blue', label='mean ($\\\\mu$)')\n",
    "\n",
    "    plt.fill_between(\n",
    "        np.arange(i + 1),\n",
    "        generator_mean_history[:i + 1] - generator_sigma_history[:i + 1],\n",
    "        generator_mean_history[:i + 1] + generator_sigma_history[:i + 1],\n",
    "        color='blue',\n",
    "        label='sigma ($\\\\sigma$)',\n",
    "        alpha=0.2\n",
    "    )\n",
    "    \n",
    "    plt.plot([0, n_iterations - 1], [TRUE_OFFSET, TRUE_OFFSET], '--', color='black', alpha=0.5, label='ground truth')\n",
    "    plt.ylim([-2, 4])\n",
    "    plt.legend(loc='upper left', fontsize=18)\n",
    "    plt.legend(fontsize=18)\n",
    "    plt.xlabel('AVO step', fontsize=16)\n",
    "    plt.ylabel('detector offset', fontsize=16)\n",
    "    plt.show()"
   ]
  },
  {
   "cell_type": "code",
   "execution_count": null,
   "metadata": {},
   "outputs": [],
   "source": []
  }
 ],
 "metadata": {
  "kernelspec": {
   "display_name": "Python 3",
   "language": "python",
   "name": "python3"
  },
  "language_info": {
   "codemirror_mode": {
    "name": "ipython",
    "version": 3
   },
   "file_extension": ".py",
   "mimetype": "text/x-python",
   "name": "python",
   "nbconvert_exporter": "python",
   "pygments_lexer": "ipython3",
   "version": "3.6.6"
  }
 },
 "nbformat": 4,
 "nbformat_minor": 2
}
